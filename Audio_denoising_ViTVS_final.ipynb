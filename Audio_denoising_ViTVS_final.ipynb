{
 "cells": [
  {
   "cell_type": "markdown",
   "id": "f638bc4e",
   "metadata": {},
   "source": [
    "## Importing Libraries"
   ]
  },
  {
   "cell_type": "code",
   "execution_count": 1,
   "id": "f988b40f-8ba6-4da5-8880-070e90a27db6",
   "metadata": {},
   "outputs": [],
   "source": [
    "# Standard libraries\n",
    "import os\n",
    "import cv2\n",
    "import numpy as np\n",
    "from tqdm import tqdm\n",
    "import copy\n",
    "import requests\n",
    "import time\n",
    "import pickle\n",
    "import glob\n",
    "from pathlib import Path\n",
    "\n",
    "# PyTorch and related libraries\n",
    "import torch\n",
    "from torch.utils.data import Dataset, DataLoader\n",
    "from torchvision.transforms.functional import to_tensor, resize\n",
    "from torchvision import transforms as TF\n",
    "import torch.nn.functional as F\n",
    "from torch.optim import AdamW, Adam\n",
    "from torch import nn\n",
    "import torchvision.transforms as T\n",
    "import torchmetrics as TM\n",
    "from torch.nn import Fold\n",
    "\n",
    "\n",
    "\n",
    "# Transformers library\n",
    "from transformers import get_scheduler\n",
    "\n",
    "# Sklearn for metrics\n",
    "from sklearn.metrics import jaccard_score, f1_score\n",
    "\n",
    "# PIL for image processing\n",
    "from PIL import Image\n",
    "\n",
    "# Visualization libraries\n",
    "import pandas as pd\n",
    "import matplotlib.pyplot as plt\n",
    "\n",
    "# Additional utilities\n",
    "from typing import Sequence\n",
    "import random\n",
    "from dataclasses import dataclass\n",
    "import dataclasses\n"
   ]
  },
  {
   "cell_type": "code",
   "execution_count": 2,
   "id": "db47ea93",
   "metadata": {},
   "outputs": [],
   "source": [
    "# Import necessary modules from the PIL library\n",
    "from PIL import Image, ImageFile\n",
    "\n",
    "# Allow loading of truncated images\n",
    "ImageFile.LOAD_TRUNCATED_IMAGES = True\n",
    "\n",
    "# Set constant values for image size and batch size\n",
    "IMG_SIZE = 256\n",
    "BATCH_SIZE = 8"
   ]
  },
  {
   "cell_type": "code",
   "execution_count": 3,
   "id": "927c1728-295d-4985-bfc0-57980d6b2e87",
   "metadata": {},
   "outputs": [],
   "source": [
    "class AudioDenoisingDataset(Dataset):\n",
    "    \"\"\"Custom dataset for audio denoising task.\n",
    "\n",
    "    Args:\n",
    "        images_dir (str): Directory containing input images.\n",
    "        masks_dir (str): Directory containing corresponding masks.\n",
    "        transform (callable, optional): Optional transform to be applied on the input images.\n",
    "    \"\"\"\n",
    "\n",
    "    def __init__(self, images_dir, masks_dir, transform=None):\n",
    "        self.images_dir = images_dir\n",
    "        self.masks_dir = masks_dir\n",
    "        self.transform = transform\n",
    "        self.images = [img for img in os.listdir(images_dir) if img.endswith('.png')]\n",
    "        self.masks = [mask.replace('.png', '.png') for mask in self.images]\n",
    "\n",
    "    def __len__(self):\n",
    "        \"\"\"Get the total number of samples in the dataset.\"\"\"\n",
    "        return len(self.images)\n",
    "\n",
    "    def __getitem__(self, idx):\n",
    "        \"\"\"Get a sample from the dataset.\n",
    "\n",
    "        Args:\n",
    "            idx (int): Index of the sample to retrieve.\n",
    "\n",
    "        Returns:\n",
    "            tuple: A tuple containing the input image and its corresponding mask.\n",
    "        \"\"\"\n",
    "        image_path = os.path.join(self.images_dir, self.images[idx])\n",
    "        mask_path = os.path.join(self.masks_dir, self.masks[idx])\n",
    "        image = Image.open(image_path).convert(\"RGB\")\n",
    "        mask = Image.open(mask_path).convert('L')  # Convert mask to grayscale\n",
    "\n",
    "        # Convert mask to binary format with 0 and 1 values\n",
    "        mask = np.array(mask)\n",
    "        mask = (mask > 0).astype(np.uint8)\n",
    "\n",
    "        # Convert to PIL Image for consistency in transforms\n",
    "        mask = Image.fromarray(mask)\n",
    "\n",
    "        if self.transform:\n",
    "            image = self.transform(image)\n",
    "\n",
    "        # Resize the mask to the desired image size\n",
    "        mask = resize(mask, size=[IMG_SIZE, IMG_SIZE], interpolation=Image.Resampling.NEAREST)\n",
    "        mask = TF.functional.to_tensor(mask)\n",
    "        mask = (mask > 0).long()  # Threshold back to binary and convert to LongTensor\n",
    "\n",
    "        return image, mask"
   ]
  },
  {
   "cell_type": "code",
   "execution_count": 4,
   "id": "ef43d5f1-4663-420d-bad9-96f30c291035",
   "metadata": {},
   "outputs": [],
   "source": [
    "# Define the appropriate transformations\n",
    "transform = TF.Compose([\n",
    "    TF.Resize((IMG_SIZE, IMG_SIZE)),\n",
    "    # Uncomment the following lines if normalization is needed\n",
    "    # TF.Normalize(mean=[0.485, 0.456, 0.406], std=[0.229, 0.224, 0.225]),\n",
    "    TF.ToTensor()\n",
    "])\n",
    "\n",
    "# Define the dataset paths\n",
    "# Train part\n",
    "train_images_dir = 'dataset/Train/Images'\n",
    "train_masks_dir = 'dataset/Train/Masks'\n",
    "\n",
    "# Validation part\n",
    "valid_images_dir = 'dataset/Valid/Images'\n",
    "valid_masks_dir = 'dataset/Valid/Masks'\n",
    "\n",
    "# Test part\n",
    "test_images_dir = 'dataset/Test/Images'\n",
    "test_masks_dir = 'dataset/Test/Masks'\n",
    "\n",
    "# Create the datasets\n",
    "train_dataset = AudioDenoisingDataset(images_dir=train_images_dir,\n",
    "                                      masks_dir=train_masks_dir,\n",
    "                                      transform=transform)\n",
    "\n",
    "valid_dataset = AudioDenoisingDataset(images_dir=valid_images_dir,\n",
    "                                      masks_dir=valid_masks_dir,\n",
    "                                      transform=transform)\n",
    "\n",
    "test_dataset = AudioDenoisingDataset(images_dir=test_images_dir,\n",
    "                                     masks_dir=test_masks_dir,\n",
    "                                     transform=transform)\n",
    "\n",
    "# Create the data loaders\n",
    "train_loader = DataLoader(train_dataset, batch_size=BATCH_SIZE, shuffle=True, num_workers=0)\n",
    "valid_loader = DataLoader(valid_dataset, batch_size=BATCH_SIZE, shuffle=False, num_workers=0)\n",
    "test_loader = DataLoader(test_dataset, batch_size=BATCH_SIZE, shuffle=False, num_workers=0)"
   ]
  },
  {
   "cell_type": "code",
   "execution_count": 5,
   "id": "ad9074af",
   "metadata": {},
   "outputs": [],
   "source": [
    "def F1_score(preds, labels, num_classes):\n",
    "    \"\"\"Calculate the mean F1 score for multiple classes.\n",
    "\n",
    "    Args:\n",
    "        preds (torch.Tensor): Predicted labels (logits) from the model.\n",
    "        labels (torch.Tensor): Ground truth labels.\n",
    "        num_classes (int): Number of classes in the segmentation task.\n",
    "\n",
    "    Returns:\n",
    "        float: Mean F1 score across all classes.\n",
    "    \"\"\"\n",
    "    # Flatten predictions and labels\n",
    "    preds_flat = preds.view(-1)\n",
    "    labels_flat = labels.view(-1)\n",
    "\n",
    "    # Calculate the F1 score for each class\n",
    "    dice_scores = []\n",
    "    for i in range(num_classes):\n",
    "        class_preds = (preds_flat == i)\n",
    "        class_labels = (labels_flat == i)\n",
    "\n",
    "        # Calculate F1 score for each class\n",
    "        dice = f1_score(class_labels.cpu().numpy(), class_preds.cpu().numpy(), labels=[True], average='binary')\n",
    "        dice_scores.append(dice)\n",
    "\n",
    "    # Return the mean F1 score\n",
    "    return np.mean(dice_scores)\n"
   ]
  },
  {
   "cell_type": "code",
   "execution_count": 6,
   "id": "31616649",
   "metadata": {},
   "outputs": [],
   "source": [
    "def dice_score_per_class(preds, labels, num_classes):\n",
    "    \"\"\"Calculate the Dice score for each class.\n",
    "\n",
    "    Args:\n",
    "        preds (np.ndarray): Predicted labels from the model.\n",
    "        labels (np.ndarray): Ground truth labels.\n",
    "        num_classes (int): Number of classes.\n",
    "\n",
    "    Returns:\n",
    "        np.ndarray: Dice score for each class.\n",
    "    \"\"\"\n",
    "    dice_scores = []\n",
    "    for i in range(num_classes):\n",
    "        class_preds = (preds == i)\n",
    "        class_labels = (labels == i)\n",
    "\n",
    "        # Calculate Dice score for each class\n",
    "        intersection = np.logical_and(class_labels.cpu().numpy().flatten(), class_preds.cpu().numpy().flatten()).sum()\n",
    "        union = np.logical_or(class_labels.cpu().numpy().flatten(), class_preds.cpu().numpy().flatten()).sum()\n",
    "        dice = (2 * intersection) / (union + intersection + 1e-8)  # Add epsilon to avoid division by zero\n",
    "        dice_scores.append(dice)\n",
    "\n",
    "    return np.array(dice_scores)\n",
    "\n",
    "\n",
    "def dice_score(preds, labels, num_classes):\n",
    "    \"\"\"Calculate the mean Dice score for multiple classes.\n",
    "\n",
    "    Args:\n",
    "        preds (np.ndarray): Predicted labels from the model.\n",
    "        labels (np.ndarray): Ground truth labels.\n",
    "        num_classes (int): Number of classes.\n",
    "\n",
    "    Returns:\n",
    "        float: Mean Dice score across all classes.\n",
    "    \"\"\"\n",
    "    # Calculate Dice score for each class\n",
    "    dice_scores = dice_score_per_class(preds, labels, num_classes)\n",
    "\n",
    "    # Return the mean Dice score\n",
    "    return np.mean(dice_scores)\n",
    "\n",
    "\n",
    "# def mean_iou(preds, labels, num_classes):\n",
    "#     \"\"\"Calculate the mean Intersection over Union (IoU) for multiple classes.\n",
    "\n",
    "#     Args:\n",
    "#         preds (torch.Tensor): Predicted labels (logits) from the model.\n",
    "#         labels (torch.Tensor): Ground truth labels.\n",
    "#         num_classes (int): Number of classes in the segmentation task.\n",
    "\n",
    "#     Returns:\n",
    "#         float: Mean IoU across all classes.\n",
    "#     \"\"\"\n",
    "#     # Flatten predictions and labels\n",
    "#     preds_flat = preds.view(-1)\n",
    "#     labels_flat = labels.view(-1)\n",
    "\n",
    "#     # Check that the number of elements in the flattened predictions\n",
    "#     # and labels are equal\n",
    "#     if preds_flat.shape[0] != labels_flat.shape[0]:\n",
    "#         raise ValueError(f\"Predictions and labels have mismatched shapes: \"\n",
    "#                          f\"{preds_flat.shape} vs {labels_flat.shape}\")\n",
    "\n",
    "#     # Calculate the Jaccard score for each class\n",
    "#     iou = jaccard_score(labels_flat.cpu().numpy(), preds_flat.cpu().numpy(),\n",
    "#                         average=None, labels=range(num_classes))\n",
    "\n",
    "#     # Return the mean IoU\n",
    "#     return np.mean(iou)\n"
   ]
  },
  {
   "cell_type": "code",
   "execution_count": 7,
   "metadata": {},
   "outputs": [],
   "source": [
    "import numpy as np\n",
    "\n",
    "def iou_score_per_class(preds, labels, num_classes):\n",
    "    \"\"\"Calculate the Intersection over Union (IoU) score for each class.\n",
    "\n",
    "    Args:\n",
    "        preds (np.ndarray): Predicted labels from the model.\n",
    "        labels (np.ndarray): Ground truth labels.\n",
    "        num_classes (int): Number of classes.\n",
    "\n",
    "    Returns:\n",
    "        np.ndarray: IoU score for each class.\n",
    "    \"\"\"\n",
    "    iou_scores = []\n",
    "    for i in range(num_classes):\n",
    "        class_preds = (preds == i)\n",
    "        class_labels = (labels == i)\n",
    "\n",
    "        # Calculate IoU score for each class\n",
    "        intersection = np.logical_and(class_labels.cpu().numpy().flatten(), class_preds.cpu().numpy().flatten()).sum()\n",
    "        union = np.logical_or(class_labels.cpu().numpy().flatten(), class_preds.cpu().numpy().flatten()).sum()\n",
    "        iou = (intersection) / (union + 1e-8)  # Add epsilon to avoid division by zero\n",
    "        iou_scores.append(iou)\n",
    "\n",
    "    return np.array(iou_scores)\n",
    "\n",
    "\n",
    "def mean_iou(preds, labels, num_classes):\n",
    "    \"\"\"Calculate the mean Intersection over Union (IoU) for multiple classes.\n",
    "\n",
    "    Args:\n",
    "        preds (np.ndarray): Predicted labels from the model.\n",
    "        labels (np.ndarray): Ground truth labels.\n",
    "        num_classes (int): Number of classes.\n",
    "\n",
    "    Returns:\n",
    "        float: Mean IoU across all classes.\n",
    "    \"\"\"\n",
    "    # Calculate IoU score for each class\n",
    "    iou_scores = iou_score_per_class(preds, labels, num_classes)\n",
    "\n",
    "    # Return the mean IoU\n",
    "    return np.mean(iou_scores)\n"
   ]
  },
  {
   "cell_type": "markdown",
   "id": "c10f62c8",
   "metadata": {},
   "source": [
    "# Block 12"
   ]
  },
  {
   "cell_type": "code",
   "execution_count": 8,
   "id": "5c33899a",
   "metadata": {},
   "outputs": [
    {
     "name": "stdout",
     "output_type": "stream",
     "text": [
      "Input Shape: torch.Size([2, 3, 256, 256]), Output Shape: torch.Size([2, 3, 256, 256])\n"
     ]
    }
   ],
   "source": [
    "@dataclasses.dataclass\n",
    "class VisionTransformerArgs:\n",
    "    \"\"\"Data class to hold arguments for Vision Transformer model.\"\"\"\n",
    "    embed_size: int = IMG_SIZE\n",
    "    image_size: int = IMG_SIZE\n",
    "    patch_size: int = 16\n",
    "    num_heads: int = 16\n",
    "    dropout: float = 0.2\n",
    "    in_channels: int = 3\n",
    "    out_channels: int = 3\n",
    "    num_blocks: int = 12\n",
    "\n",
    "class ImageToPatches(nn.Module):\n",
    "    \"\"\"Converts an image into patches using unfolding.\"\"\"\n",
    "    def __init__(self, image_size, patch_size):\n",
    "        super().__init__()\n",
    "        self.image_size = image_size\n",
    "        self.patch_size = patch_size\n",
    "        self.unfold = nn.Unfold(kernel_size=patch_size, stride=patch_size)\n",
    "\n",
    "    def forward(self, x):\n",
    "        # Ensure input has 4 dimensions (B, C, H, W)\n",
    "        assert len(x.size()) == 4\n",
    "        y = self.unfold(x)\n",
    "        y = y.permute(0, 2, 1)\n",
    "        return y\n",
    "\n",
    "class PatchEmbedding(nn.Module):\n",
    "    \"\"\"Embeds patches into a lower-dimensional space.\"\"\"\n",
    "    def __init__(self, in_channels, embed_size):\n",
    "        super().__init__()\n",
    "        self.in_channels = in_channels\n",
    "        self.embed_size = embed_size\n",
    "        self.embed_layer = nn.Linear(in_features=in_channels, out_features=embed_size)\n",
    "\n",
    "    def forward(self, x):\n",
    "        # Ensure input has 3 dimensions (B, T, C)\n",
    "        assert len(x.size()) == 3\n",
    "        B, T, C = x.size()\n",
    "        x = self.embed_layer(x)\n",
    "        return x\n",
    "\n",
    "class VisionTransformerInput(nn.Module):\n",
    "    \"\"\"Handles the input embedding for the Vision Transformer.\"\"\"\n",
    "    def __init__(self, image_size, patch_size, in_channels, embed_size):\n",
    "        super().__init__()\n",
    "        self.i2p = ImageToPatches(image_size, patch_size)\n",
    "        self.pe = PatchEmbedding(patch_size * patch_size * in_channels, embed_size)\n",
    "        num_patches = (image_size // patch_size) ** 2\n",
    "        self.position_embed = nn.Parameter(torch.randn(num_patches, embed_size))\n",
    "\n",
    "    def forward(self, x):\n",
    "        x = self.i2p(x)\n",
    "        x = self.pe(x)\n",
    "        x = x + self.position_embed\n",
    "        return x\n",
    "\n",
    "class MultiLayerPerceptron(nn.Module):\n",
    "    \"\"\"A simple Multi-Layer Perceptron.\"\"\"\n",
    "    def __init__(self, embed_size, dropout):\n",
    "        super().__init__()\n",
    "        self.layers = nn.Sequential(\n",
    "            nn.Linear(embed_size, embed_size * 4),\n",
    "            nn.GELU(),\n",
    "            nn.Linear(embed_size * 4, embed_size),\n",
    "            nn.Dropout(p=dropout),\n",
    "        )\n",
    "\n",
    "    def forward(self, x):\n",
    "        return self.layers(x)\n",
    "\n",
    "class SelfAttentionEncoderBlock(nn.Module):\n",
    "    \"\"\"Encoder block with self-attention mechanism.\"\"\"\n",
    "    def __init__(self, embed_size, num_heads, dropout):\n",
    "        super().__init__()\n",
    "        self.embed_size = embed_size\n",
    "        self.ln1 = nn.LayerNorm(embed_size)\n",
    "        self.mha = nn.MultiheadAttention(embed_size, num_heads, dropout=dropout, batch_first=True)\n",
    "        self.ln2 = nn.LayerNorm(embed_size)\n",
    "        self.mlp = MultiLayerPerceptron(embed_size, dropout)\n",
    "\n",
    "    def forward(self, x):\n",
    "        y = self.ln1(x)\n",
    "        x = x + self.mha(y, y, y, need_weights=False)[0]\n",
    "        x = x + self.mlp(self.ln2(x))\n",
    "        return x\n",
    "\n",
    "class OutputProjection(nn.Module):\n",
    "    \"\"\"Projects the embeddings back to the original image size.\"\"\"\n",
    "    def __init__(self, image_size, patch_size, embed_size, output_dims):\n",
    "        super().__init__()\n",
    "        self.patch_size = patch_size\n",
    "        self.output_dims = output_dims\n",
    "        self.projection = nn.Linear(embed_size, patch_size * patch_size * output_dims)\n",
    "        self.fold = Fold(output_size=(image_size, image_size), kernel_size=patch_size, stride=patch_size)\n",
    "\n",
    "    def forward(self, x):\n",
    "        B, T, C = x.shape\n",
    "        x = self.projection(x)\n",
    "        x = x.permute(0, 2, 1)\n",
    "        x = self.fold(x)\n",
    "        return x\n",
    "\n",
    "class VisionTransformerForSegmentation(nn.Module):\n",
    "    \"\"\"Complete Vision Transformer for segmentation tasks.\"\"\"\n",
    "    def __init__(self, image_size, patch_size, in_channels, out_channels, embed_size, num_blocks, num_heads, dropout):\n",
    "        super().__init__()\n",
    "        self.image_size = image_size\n",
    "        self.patch_size = patch_size\n",
    "        self.embed_size = embed_size\n",
    "        self.num_blocks = num_blocks\n",
    "        self.num_heads = num_heads\n",
    "        self.dropout = dropout\n",
    "\n",
    "        # Create a list of self-attention encoder blocks\n",
    "        heads = [SelfAttentionEncoderBlock(embed_size, num_heads, dropout) for _ in range(num_blocks)]\n",
    "        self.layers = nn.Sequential(\n",
    "            nn.BatchNorm2d(num_features=in_channels),\n",
    "            VisionTransformerInput(image_size, patch_size, in_channels, embed_size),\n",
    "            nn.Sequential(*heads),\n",
    "            OutputProjection(image_size, patch_size, embed_size, out_channels),\n",
    "        )\n",
    "\n",
    "    def forward(self, x):\n",
    "        x = self.layers(x)\n",
    "        return x\n",
    "\n",
    "def build_vision_transformer(args: VisionTransformerArgs):\n",
    "    \"\"\"Builds a Vision Transformer model based on the provided arguments.\n",
    "\n",
    "    Args:\n",
    "        args (VisionTransformerArgs): Arguments for the Vision Transformer.\n",
    "\n",
    "    Returns:\n",
    "        tuple: A tuple containing the Vision Transformer model, input shape, and output shape.\n",
    "    \"\"\"\n",
    "    x = torch.randn(2, args.in_channels, args.image_size, args.image_size)\n",
    "    vit = VisionTransformerForSegmentation(**dataclasses.asdict(args))\n",
    "    y = vit(x)\n",
    "    return vit, x.shape, y.shape\n",
    "\n",
    "# Model usage:\n",
    "vit_args = VisionTransformerArgs(embed_size=IMG_SIZE, image_size=IMG_SIZE)\n",
    "vitvs_model, input_shape, output_shape = build_vision_transformer(vit_args)\n",
    "print(f\"Input Shape: {input_shape}, Output Shape: {output_shape}\")\n",
    "model_name = 'ViTVS_block_12_iou_80.pt'\n"
   ]
  },
  {
   "cell_type": "code",
   "execution_count": 9,
   "id": "5debd686",
   "metadata": {},
   "outputs": [
    {
     "name": "stdout",
     "output_type": "stream",
     "text": [
      "|===========================================================================|\n",
      "|                  PyTorch CUDA memory summary, device ID 0                 |\n",
      "|---------------------------------------------------------------------------|\n",
      "|            CUDA OOMs: 0            |        cudaMalloc retries: 0         |\n",
      "|===========================================================================|\n",
      "|        Metric         | Cur Usage  | Peak Usage | Tot Alloc  | Tot Freed  |\n",
      "|---------------------------------------------------------------------------|\n",
      "| Allocated memory      |      0 B   |      0 B   |      0 B   |      0 B   |\n",
      "|       from large pool |      0 B   |      0 B   |      0 B   |      0 B   |\n",
      "|       from small pool |      0 B   |      0 B   |      0 B   |      0 B   |\n",
      "|---------------------------------------------------------------------------|\n",
      "| Active memory         |      0 B   |      0 B   |      0 B   |      0 B   |\n",
      "|       from large pool |      0 B   |      0 B   |      0 B   |      0 B   |\n",
      "|       from small pool |      0 B   |      0 B   |      0 B   |      0 B   |\n",
      "|---------------------------------------------------------------------------|\n",
      "| Requested memory      |      0 B   |      0 B   |      0 B   |      0 B   |\n",
      "|       from large pool |      0 B   |      0 B   |      0 B   |      0 B   |\n",
      "|       from small pool |      0 B   |      0 B   |      0 B   |      0 B   |\n",
      "|---------------------------------------------------------------------------|\n",
      "| GPU reserved memory   |      0 B   |      0 B   |      0 B   |      0 B   |\n",
      "|       from large pool |      0 B   |      0 B   |      0 B   |      0 B   |\n",
      "|       from small pool |      0 B   |      0 B   |      0 B   |      0 B   |\n",
      "|---------------------------------------------------------------------------|\n",
      "| Non-releasable memory |      0 B   |      0 B   |      0 B   |      0 B   |\n",
      "|       from large pool |      0 B   |      0 B   |      0 B   |      0 B   |\n",
      "|       from small pool |      0 B   |      0 B   |      0 B   |      0 B   |\n",
      "|---------------------------------------------------------------------------|\n",
      "| Allocations           |       0    |       0    |       0    |       0    |\n",
      "|       from large pool |       0    |       0    |       0    |       0    |\n",
      "|       from small pool |       0    |       0    |       0    |       0    |\n",
      "|---------------------------------------------------------------------------|\n",
      "| Active allocs         |       0    |       0    |       0    |       0    |\n",
      "|       from large pool |       0    |       0    |       0    |       0    |\n",
      "|       from small pool |       0    |       0    |       0    |       0    |\n",
      "|---------------------------------------------------------------------------|\n",
      "| GPU reserved segments |       0    |       0    |       0    |       0    |\n",
      "|       from large pool |       0    |       0    |       0    |       0    |\n",
      "|       from small pool |       0    |       0    |       0    |       0    |\n",
      "|---------------------------------------------------------------------------|\n",
      "| Non-releasable allocs |       0    |       0    |       0    |       0    |\n",
      "|       from large pool |       0    |       0    |       0    |       0    |\n",
      "|       from small pool |       0    |       0    |       0    |       0    |\n",
      "|---------------------------------------------------------------------------|\n",
      "| Oversize allocations  |       0    |       0    |       0    |       0    |\n",
      "|---------------------------------------------------------------------------|\n",
      "| Oversize GPU segments |       0    |       0    |       0    |       0    |\n",
      "|===========================================================================|\n",
      "\n"
     ]
    }
   ],
   "source": [
    "# Clear the GPU memory cache to free up memory\n",
    "torch.cuda.empty_cache()\n",
    "\n",
    "# Display a summary of GPU memory usage\n",
    "# The 'device' parameter can be specified to check memory for a specific GPU\n",
    "# Set 'abbreviated' to True for a concise summary\n",
    "# The summary includes details like allocated, reserved, and cached memory\n",
    "memory_summary = torch.cuda.memory_summary(device=None, abbreviated=False)\n",
    "\n",
    "# Print the memory summary\n",
    "print(memory_summary)\n"
   ]
  },
  {
   "cell_type": "code",
   "execution_count": 10,
   "id": "00dea2f4",
   "metadata": {},
   "outputs": [
    {
     "data": {
      "text/plain": [
       "VisionTransformerForSegmentation(\n",
       "  (layers): Sequential(\n",
       "    (0): BatchNorm2d(3, eps=1e-05, momentum=0.1, affine=True, track_running_stats=True)\n",
       "    (1): VisionTransformerInput(\n",
       "      (i2p): ImageToPatches(\n",
       "        (unfold): Unfold(kernel_size=16, dilation=1, padding=0, stride=16)\n",
       "      )\n",
       "      (pe): PatchEmbedding(\n",
       "        (embed_layer): Linear(in_features=768, out_features=256, bias=True)\n",
       "      )\n",
       "    )\n",
       "    (2): Sequential(\n",
       "      (0): SelfAttentionEncoderBlock(\n",
       "        (ln1): LayerNorm((256,), eps=1e-05, elementwise_affine=True)\n",
       "        (mha): MultiheadAttention(\n",
       "          (out_proj): NonDynamicallyQuantizableLinear(in_features=256, out_features=256, bias=True)\n",
       "        )\n",
       "        (ln2): LayerNorm((256,), eps=1e-05, elementwise_affine=True)\n",
       "        (mlp): MultiLayerPerceptron(\n",
       "          (layers): Sequential(\n",
       "            (0): Linear(in_features=256, out_features=1024, bias=True)\n",
       "            (1): GELU(approximate='none')\n",
       "            (2): Linear(in_features=1024, out_features=256, bias=True)\n",
       "            (3): Dropout(p=0.2, inplace=False)\n",
       "          )\n",
       "        )\n",
       "      )\n",
       "      (1): SelfAttentionEncoderBlock(\n",
       "        (ln1): LayerNorm((256,), eps=1e-05, elementwise_affine=True)\n",
       "        (mha): MultiheadAttention(\n",
       "          (out_proj): NonDynamicallyQuantizableLinear(in_features=256, out_features=256, bias=True)\n",
       "        )\n",
       "        (ln2): LayerNorm((256,), eps=1e-05, elementwise_affine=True)\n",
       "        (mlp): MultiLayerPerceptron(\n",
       "          (layers): Sequential(\n",
       "            (0): Linear(in_features=256, out_features=1024, bias=True)\n",
       "            (1): GELU(approximate='none')\n",
       "            (2): Linear(in_features=1024, out_features=256, bias=True)\n",
       "            (3): Dropout(p=0.2, inplace=False)\n",
       "          )\n",
       "        )\n",
       "      )\n",
       "      (2): SelfAttentionEncoderBlock(\n",
       "        (ln1): LayerNorm((256,), eps=1e-05, elementwise_affine=True)\n",
       "        (mha): MultiheadAttention(\n",
       "          (out_proj): NonDynamicallyQuantizableLinear(in_features=256, out_features=256, bias=True)\n",
       "        )\n",
       "        (ln2): LayerNorm((256,), eps=1e-05, elementwise_affine=True)\n",
       "        (mlp): MultiLayerPerceptron(\n",
       "          (layers): Sequential(\n",
       "            (0): Linear(in_features=256, out_features=1024, bias=True)\n",
       "            (1): GELU(approximate='none')\n",
       "            (2): Linear(in_features=1024, out_features=256, bias=True)\n",
       "            (3): Dropout(p=0.2, inplace=False)\n",
       "          )\n",
       "        )\n",
       "      )\n",
       "      (3): SelfAttentionEncoderBlock(\n",
       "        (ln1): LayerNorm((256,), eps=1e-05, elementwise_affine=True)\n",
       "        (mha): MultiheadAttention(\n",
       "          (out_proj): NonDynamicallyQuantizableLinear(in_features=256, out_features=256, bias=True)\n",
       "        )\n",
       "        (ln2): LayerNorm((256,), eps=1e-05, elementwise_affine=True)\n",
       "        (mlp): MultiLayerPerceptron(\n",
       "          (layers): Sequential(\n",
       "            (0): Linear(in_features=256, out_features=1024, bias=True)\n",
       "            (1): GELU(approximate='none')\n",
       "            (2): Linear(in_features=1024, out_features=256, bias=True)\n",
       "            (3): Dropout(p=0.2, inplace=False)\n",
       "          )\n",
       "        )\n",
       "      )\n",
       "      (4): SelfAttentionEncoderBlock(\n",
       "        (ln1): LayerNorm((256,), eps=1e-05, elementwise_affine=True)\n",
       "        (mha): MultiheadAttention(\n",
       "          (out_proj): NonDynamicallyQuantizableLinear(in_features=256, out_features=256, bias=True)\n",
       "        )\n",
       "        (ln2): LayerNorm((256,), eps=1e-05, elementwise_affine=True)\n",
       "        (mlp): MultiLayerPerceptron(\n",
       "          (layers): Sequential(\n",
       "            (0): Linear(in_features=256, out_features=1024, bias=True)\n",
       "            (1): GELU(approximate='none')\n",
       "            (2): Linear(in_features=1024, out_features=256, bias=True)\n",
       "            (3): Dropout(p=0.2, inplace=False)\n",
       "          )\n",
       "        )\n",
       "      )\n",
       "      (5): SelfAttentionEncoderBlock(\n",
       "        (ln1): LayerNorm((256,), eps=1e-05, elementwise_affine=True)\n",
       "        (mha): MultiheadAttention(\n",
       "          (out_proj): NonDynamicallyQuantizableLinear(in_features=256, out_features=256, bias=True)\n",
       "        )\n",
       "        (ln2): LayerNorm((256,), eps=1e-05, elementwise_affine=True)\n",
       "        (mlp): MultiLayerPerceptron(\n",
       "          (layers): Sequential(\n",
       "            (0): Linear(in_features=256, out_features=1024, bias=True)\n",
       "            (1): GELU(approximate='none')\n",
       "            (2): Linear(in_features=1024, out_features=256, bias=True)\n",
       "            (3): Dropout(p=0.2, inplace=False)\n",
       "          )\n",
       "        )\n",
       "      )\n",
       "      (6): SelfAttentionEncoderBlock(\n",
       "        (ln1): LayerNorm((256,), eps=1e-05, elementwise_affine=True)\n",
       "        (mha): MultiheadAttention(\n",
       "          (out_proj): NonDynamicallyQuantizableLinear(in_features=256, out_features=256, bias=True)\n",
       "        )\n",
       "        (ln2): LayerNorm((256,), eps=1e-05, elementwise_affine=True)\n",
       "        (mlp): MultiLayerPerceptron(\n",
       "          (layers): Sequential(\n",
       "            (0): Linear(in_features=256, out_features=1024, bias=True)\n",
       "            (1): GELU(approximate='none')\n",
       "            (2): Linear(in_features=1024, out_features=256, bias=True)\n",
       "            (3): Dropout(p=0.2, inplace=False)\n",
       "          )\n",
       "        )\n",
       "      )\n",
       "      (7): SelfAttentionEncoderBlock(\n",
       "        (ln1): LayerNorm((256,), eps=1e-05, elementwise_affine=True)\n",
       "        (mha): MultiheadAttention(\n",
       "          (out_proj): NonDynamicallyQuantizableLinear(in_features=256, out_features=256, bias=True)\n",
       "        )\n",
       "        (ln2): LayerNorm((256,), eps=1e-05, elementwise_affine=True)\n",
       "        (mlp): MultiLayerPerceptron(\n",
       "          (layers): Sequential(\n",
       "            (0): Linear(in_features=256, out_features=1024, bias=True)\n",
       "            (1): GELU(approximate='none')\n",
       "            (2): Linear(in_features=1024, out_features=256, bias=True)\n",
       "            (3): Dropout(p=0.2, inplace=False)\n",
       "          )\n",
       "        )\n",
       "      )\n",
       "      (8): SelfAttentionEncoderBlock(\n",
       "        (ln1): LayerNorm((256,), eps=1e-05, elementwise_affine=True)\n",
       "        (mha): MultiheadAttention(\n",
       "          (out_proj): NonDynamicallyQuantizableLinear(in_features=256, out_features=256, bias=True)\n",
       "        )\n",
       "        (ln2): LayerNorm((256,), eps=1e-05, elementwise_affine=True)\n",
       "        (mlp): MultiLayerPerceptron(\n",
       "          (layers): Sequential(\n",
       "            (0): Linear(in_features=256, out_features=1024, bias=True)\n",
       "            (1): GELU(approximate='none')\n",
       "            (2): Linear(in_features=1024, out_features=256, bias=True)\n",
       "            (3): Dropout(p=0.2, inplace=False)\n",
       "          )\n",
       "        )\n",
       "      )\n",
       "      (9): SelfAttentionEncoderBlock(\n",
       "        (ln1): LayerNorm((256,), eps=1e-05, elementwise_affine=True)\n",
       "        (mha): MultiheadAttention(\n",
       "          (out_proj): NonDynamicallyQuantizableLinear(in_features=256, out_features=256, bias=True)\n",
       "        )\n",
       "        (ln2): LayerNorm((256,), eps=1e-05, elementwise_affine=True)\n",
       "        (mlp): MultiLayerPerceptron(\n",
       "          (layers): Sequential(\n",
       "            (0): Linear(in_features=256, out_features=1024, bias=True)\n",
       "            (1): GELU(approximate='none')\n",
       "            (2): Linear(in_features=1024, out_features=256, bias=True)\n",
       "            (3): Dropout(p=0.2, inplace=False)\n",
       "          )\n",
       "        )\n",
       "      )\n",
       "      (10): SelfAttentionEncoderBlock(\n",
       "        (ln1): LayerNorm((256,), eps=1e-05, elementwise_affine=True)\n",
       "        (mha): MultiheadAttention(\n",
       "          (out_proj): NonDynamicallyQuantizableLinear(in_features=256, out_features=256, bias=True)\n",
       "        )\n",
       "        (ln2): LayerNorm((256,), eps=1e-05, elementwise_affine=True)\n",
       "        (mlp): MultiLayerPerceptron(\n",
       "          (layers): Sequential(\n",
       "            (0): Linear(in_features=256, out_features=1024, bias=True)\n",
       "            (1): GELU(approximate='none')\n",
       "            (2): Linear(in_features=1024, out_features=256, bias=True)\n",
       "            (3): Dropout(p=0.2, inplace=False)\n",
       "          )\n",
       "        )\n",
       "      )\n",
       "      (11): SelfAttentionEncoderBlock(\n",
       "        (ln1): LayerNorm((256,), eps=1e-05, elementwise_affine=True)\n",
       "        (mha): MultiheadAttention(\n",
       "          (out_proj): NonDynamicallyQuantizableLinear(in_features=256, out_features=256, bias=True)\n",
       "        )\n",
       "        (ln2): LayerNorm((256,), eps=1e-05, elementwise_affine=True)\n",
       "        (mlp): MultiLayerPerceptron(\n",
       "          (layers): Sequential(\n",
       "            (0): Linear(in_features=256, out_features=1024, bias=True)\n",
       "            (1): GELU(approximate='none')\n",
       "            (2): Linear(in_features=1024, out_features=256, bias=True)\n",
       "            (3): Dropout(p=0.2, inplace=False)\n",
       "          )\n",
       "        )\n",
       "      )\n",
       "    )\n",
       "    (3): OutputProjection(\n",
       "      (projection): Linear(in_features=256, out_features=768, bias=True)\n",
       "      (fold): Fold(output_size=(256, 256), kernel_size=16, dilation=1, padding=0, stride=16)\n",
       "    )\n",
       "  )\n",
       ")"
      ]
     },
     "execution_count": 10,
     "metadata": {},
     "output_type": "execute_result"
    }
   ],
   "source": [
    "# Check for CUDA acceleration\n",
    "device = torch.device('cuda' if torch.cuda.is_available() else 'cpu')\n",
    "# model = vit\n",
    "model = vitvs_model\n",
    "model.to(device)"
   ]
  },
  {
   "cell_type": "code",
   "execution_count": 11,
   "id": "dffa2aa2-bb21-41e1-9fd5-f96f269d358b",
   "metadata": {},
   "outputs": [
    {
     "name": "stdout",
     "output_type": "stream",
     "text": [
      "\n",
      "\n"
     ]
    },
    {
     "name": "stderr",
     "output_type": "stream",
     "text": [
      "Epoch 1/100:   0%|          | 0/1250 [00:00<?, ?batch/s]"
     ]
    },
    {
     "name": "stderr",
     "output_type": "stream",
     "text": [
      "d:\\program\\ysz\\anaconda\\envs\\pytorch\\lib\\site-packages\\torch\\nn\\functional.py:5476: UserWarning: 1Torch was not compiled with flash attention. (Triggered internally at ..\\aten\\src\\ATen\\native\\transformers\\cuda\\sdp_utils.cpp:263.)\n",
      "  attn_output = scaled_dot_product_attention(q, k, v, attn_mask, dropout_p, is_causal)\n",
      "Epoch 1/100: 100%|██████████| 1250/1250 [14:42<00:00,  1.42batch/s, loss=0.148] \n",
      "Validation: 100%|██████████| 175/175 [02:42<00:00,  1.08batch/s, dice_score=0.825, f1_score=0.825, loss=0.0914, mean_iou=0.734]\n"
     ]
    },
    {
     "name": "stdout",
     "output_type": "stream",
     "text": [
      "Validation => Mean Loss: 0.0889 | Mean IoU: 0.7127 | Mean Dice: 0.8036 | Mean F1 Score: 0.8036\n",
      "Validation IoU improved from 0.0000 to 0.7127\n",
      "\n",
      "\n"
     ]
    },
    {
     "name": "stderr",
     "output_type": "stream",
     "text": [
      "Epoch 2/100: 100%|██████████| 1250/1250 [15:31<00:00,  1.34batch/s, loss=0.103] \n",
      "Validation: 100%|██████████| 175/175 [02:59<00:00,  1.02s/batch, dice_score=0.848, f1_score=0.848, loss=0.0815, mean_iou=0.76] \n"
     ]
    },
    {
     "name": "stdout",
     "output_type": "stream",
     "text": [
      "Validation => Mean Loss: 0.0775 | Mean IoU: 0.7483 | Mean Dice: 0.8353 | Mean F1 Score: 0.8353\n",
      "Validation IoU improved from 0.7127 to 0.7483\n",
      "\n",
      "\n"
     ]
    },
    {
     "name": "stderr",
     "output_type": "stream",
     "text": [
      "Epoch 3/100: 100%|██████████| 1250/1250 [15:48<00:00,  1.32batch/s, loss=0.0714]\n",
      "Validation: 100%|██████████| 175/175 [03:01<00:00,  1.04s/batch, dice_score=0.861, f1_score=0.861, loss=0.0733, mean_iou=0.777]\n"
     ]
    },
    {
     "name": "stdout",
     "output_type": "stream",
     "text": [
      "Validation => Mean Loss: 0.0731 | Mean IoU: 0.7580 | Mean Dice: 0.8432 | Mean F1 Score: 0.8432\n",
      "Validation IoU improved from 0.7483 to 0.7580\n",
      "\n",
      "\n"
     ]
    },
    {
     "name": "stderr",
     "output_type": "stream",
     "text": [
      "Epoch 4/100: 100%|██████████| 1250/1250 [14:56<00:00,  1.39batch/s, loss=0.0585]\n",
      "Validation: 100%|██████████| 175/175 [03:08<00:00,  1.07s/batch, dice_score=0.858, f1_score=0.858, loss=0.0713, mean_iou=0.773]\n"
     ]
    },
    {
     "name": "stdout",
     "output_type": "stream",
     "text": [
      "Validation => Mean Loss: 0.0714 | Mean IoU: 0.7565 | Mean Dice: 0.8419 | Mean F1 Score: 0.8419\n",
      "\n",
      "\n"
     ]
    },
    {
     "name": "stderr",
     "output_type": "stream",
     "text": [
      "Epoch 5/100: 100%|██████████| 1250/1250 [16:35<00:00,  1.26batch/s, loss=0.036] \n",
      "Validation: 100%|██████████| 175/175 [03:04<00:00,  1.06s/batch, dice_score=0.866, f1_score=0.866, loss=0.0695, mean_iou=0.783]\n"
     ]
    },
    {
     "name": "stdout",
     "output_type": "stream",
     "text": [
      "Validation => Mean Loss: 0.0726 | Mean IoU: 0.7526 | Mean Dice: 0.8385 | Mean F1 Score: 0.8385\n",
      "\n",
      "\n"
     ]
    },
    {
     "name": "stderr",
     "output_type": "stream",
     "text": [
      "Epoch 6/100: 100%|██████████| 1250/1250 [15:44<00:00,  1.32batch/s, loss=0.0776]\n",
      "Validation: 100%|██████████| 175/175 [03:01<00:00,  1.04s/batch, dice_score=0.886, f1_score=0.886, loss=0.0612, mean_iou=0.811]\n"
     ]
    },
    {
     "name": "stdout",
     "output_type": "stream",
     "text": [
      "Validation => Mean Loss: 0.0672 | Mean IoU: 0.7757 | Mean Dice: 0.8576 | Mean F1 Score: 0.8576\n",
      "Validation IoU improved from 0.7580 to 0.7757\n",
      "\n",
      "\n"
     ]
    },
    {
     "name": "stderr",
     "output_type": "stream",
     "text": [
      "Epoch 7/100: 100%|██████████| 1250/1250 [16:35<00:00,  1.26batch/s, loss=0.105] \n",
      "Validation: 100%|██████████| 175/175 [03:00<00:00,  1.03s/batch, dice_score=0.89, f1_score=0.89, loss=0.0571, mean_iou=0.816]  \n"
     ]
    },
    {
     "name": "stdout",
     "output_type": "stream",
     "text": [
      "Validation => Mean Loss: 0.0651 | Mean IoU: 0.7791 | Mean Dice: 0.8602 | Mean F1 Score: 0.8602\n",
      "Validation IoU improved from 0.7757 to 0.7791\n",
      "\n",
      "\n"
     ]
    },
    {
     "name": "stderr",
     "output_type": "stream",
     "text": [
      "Epoch 8/100: 100%|██████████| 1250/1250 [15:14<00:00,  1.37batch/s, loss=0.0529]\n",
      "Validation: 100%|██████████| 175/175 [02:50<00:00,  1.03batch/s, dice_score=0.886, f1_score=0.886, loss=0.0588, mean_iou=0.811]\n"
     ]
    },
    {
     "name": "stdout",
     "output_type": "stream",
     "text": [
      "Validation => Mean Loss: 0.0637 | Mean IoU: 0.7859 | Mean Dice: 0.8657 | Mean F1 Score: 0.8657\n",
      "Validation IoU improved from 0.7791 to 0.7859\n",
      "\n",
      "\n"
     ]
    },
    {
     "name": "stderr",
     "output_type": "stream",
     "text": [
      "Epoch 9/100: 100%|██████████| 1250/1250 [13:27<00:00,  1.55batch/s, loss=0.0499]\n",
      "Validation: 100%|██████████| 175/175 [02:26<00:00,  1.19batch/s, dice_score=0.897, f1_score=0.897, loss=0.0553, mean_iou=0.826]\n"
     ]
    },
    {
     "name": "stdout",
     "output_type": "stream",
     "text": [
      "Validation => Mean Loss: 0.0636 | Mean IoU: 0.7842 | Mean Dice: 0.8641 | Mean F1 Score: 0.8641\n",
      "\n",
      "\n"
     ]
    },
    {
     "name": "stderr",
     "output_type": "stream",
     "text": [
      "Epoch 10/100: 100%|██████████| 1250/1250 [12:06<00:00,  1.72batch/s, loss=0.0505]\n",
      "Validation: 100%|██████████| 175/175 [02:26<00:00,  1.20batch/s, dice_score=0.89, f1_score=0.89, loss=0.0556, mean_iou=0.816]  \n"
     ]
    },
    {
     "name": "stdout",
     "output_type": "stream",
     "text": [
      "Validation => Mean Loss: 0.0650 | Mean IoU: 0.7739 | Mean Dice: 0.8554 | Mean F1 Score: 0.8554\n",
      "\n",
      "\n"
     ]
    },
    {
     "name": "stderr",
     "output_type": "stream",
     "text": [
      "Epoch 11/100: 100%|██████████| 1250/1250 [12:06<00:00,  1.72batch/s, loss=0.0736]\n",
      "Validation: 100%|██████████| 175/175 [02:26<00:00,  1.19batch/s, dice_score=0.896, f1_score=0.896, loss=0.0552, mean_iou=0.825]\n"
     ]
    },
    {
     "name": "stdout",
     "output_type": "stream",
     "text": [
      "Validation => Mean Loss: 0.0624 | Mean IoU: 0.7876 | Mean Dice: 0.8666 | Mean F1 Score: 0.8666\n",
      "Validation IoU improved from 0.7859 to 0.7876\n",
      "\n",
      "\n"
     ]
    },
    {
     "name": "stderr",
     "output_type": "stream",
     "text": [
      "Epoch 12/100: 100%|██████████| 1250/1250 [12:07<00:00,  1.72batch/s, loss=0.0492]\n",
      "Validation: 100%|██████████| 175/175 [02:25<00:00,  1.20batch/s, dice_score=0.896, f1_score=0.896, loss=0.0556, mean_iou=0.825]\n"
     ]
    },
    {
     "name": "stdout",
     "output_type": "stream",
     "text": [
      "Validation => Mean Loss: 0.0624 | Mean IoU: 0.7914 | Mean Dice: 0.8695 | Mean F1 Score: 0.8695\n",
      "Validation IoU improved from 0.7876 to 0.7914\n",
      "\n",
      "\n"
     ]
    },
    {
     "name": "stderr",
     "output_type": "stream",
     "text": [
      "Epoch 13/100: 100%|██████████| 1250/1250 [13:31<00:00,  1.54batch/s, loss=0.0509]\n",
      "Validation: 100%|██████████| 175/175 [02:50<00:00,  1.03batch/s, dice_score=0.904, f1_score=0.904, loss=0.0525, mean_iou=0.836]\n"
     ]
    },
    {
     "name": "stdout",
     "output_type": "stream",
     "text": [
      "Validation => Mean Loss: 0.0623 | Mean IoU: 0.7921 | Mean Dice: 0.8701 | Mean F1 Score: 0.8701\n",
      "Validation IoU improved from 0.7914 to 0.7921\n",
      "\n",
      "\n"
     ]
    },
    {
     "name": "stderr",
     "output_type": "stream",
     "text": [
      "Epoch 14/100: 100%|██████████| 1250/1250 [14:13<00:00,  1.46batch/s, loss=0.0542]\n",
      "Validation: 100%|██████████| 175/175 [02:50<00:00,  1.02batch/s, dice_score=0.89, f1_score=0.89, loss=0.0584, mean_iou=0.816]  \n"
     ]
    },
    {
     "name": "stdout",
     "output_type": "stream",
     "text": [
      "Validation => Mean Loss: 0.0625 | Mean IoU: 0.7941 | Mean Dice: 0.8717 | Mean F1 Score: 0.8717\n",
      "Validation IoU improved from 0.7921 to 0.7941\n",
      "\n",
      "\n"
     ]
    },
    {
     "name": "stderr",
     "output_type": "stream",
     "text": [
      "Epoch 15/100: 100%|██████████| 1250/1250 [14:14<00:00,  1.46batch/s, loss=0.0831]\n",
      "Validation: 100%|██████████| 175/175 [02:51<00:00,  1.02batch/s, dice_score=0.888, f1_score=0.888, loss=0.0562, mean_iou=0.814]\n"
     ]
    },
    {
     "name": "stdout",
     "output_type": "stream",
     "text": [
      "Validation => Mean Loss: 0.0623 | Mean IoU: 0.7920 | Mean Dice: 0.8702 | Mean F1 Score: 0.8702\n",
      "\n",
      "\n"
     ]
    },
    {
     "name": "stderr",
     "output_type": "stream",
     "text": [
      "Epoch 16/100: 100%|██████████| 1250/1250 [12:21<00:00,  1.69batch/s, loss=0.0453]\n",
      "Validation: 100%|██████████| 175/175 [02:24<00:00,  1.21batch/s, dice_score=0.881, f1_score=0.881, loss=0.06, mean_iou=0.804]  \n"
     ]
    },
    {
     "name": "stdout",
     "output_type": "stream",
     "text": [
      "Validation => Mean Loss: 0.0634 | Mean IoU: 0.7875 | Mean Dice: 0.8667 | Mean F1 Score: 0.8667\n",
      "\n",
      "\n"
     ]
    },
    {
     "name": "stderr",
     "output_type": "stream",
     "text": [
      "Epoch 17/100: 100%|██████████| 1250/1250 [11:56<00:00,  1.75batch/s, loss=0.0663]\n",
      "Validation: 100%|██████████| 175/175 [02:25<00:00,  1.21batch/s, dice_score=0.903, f1_score=0.903, loss=0.0525, mean_iou=0.835]\n"
     ]
    },
    {
     "name": "stdout",
     "output_type": "stream",
     "text": [
      "Validation => Mean Loss: 0.0608 | Mean IoU: 0.7981 | Mean Dice: 0.8746 | Mean F1 Score: 0.8746\n",
      "Validation IoU improved from 0.7941 to 0.7981\n",
      "\n",
      "\n"
     ]
    },
    {
     "name": "stderr",
     "output_type": "stream",
     "text": [
      "Epoch 18/100: 100%|██████████| 1250/1250 [11:58<00:00,  1.74batch/s, loss=0.0623]\n",
      "Validation: 100%|██████████| 175/175 [02:25<00:00,  1.20batch/s, dice_score=0.905, f1_score=0.905, loss=0.0554, mean_iou=0.837]\n"
     ]
    },
    {
     "name": "stdout",
     "output_type": "stream",
     "text": [
      "Validation => Mean Loss: 0.0615 | Mean IoU: 0.7987 | Mean Dice: 0.8755 | Mean F1 Score: 0.8755\n",
      "Validation IoU improved from 0.7981 to 0.7987\n",
      "\n",
      "\n"
     ]
    },
    {
     "name": "stderr",
     "output_type": "stream",
     "text": [
      "Epoch 19/100: 100%|██████████| 1250/1250 [12:10<00:00,  1.71batch/s, loss=0.0646]\n",
      "Validation: 100%|██████████| 175/175 [02:30<00:00,  1.16batch/s, dice_score=0.898, f1_score=0.898, loss=0.0542, mean_iou=0.827]\n"
     ]
    },
    {
     "name": "stdout",
     "output_type": "stream",
     "text": [
      "Validation => Mean Loss: 0.0610 | Mean IoU: 0.7930 | Mean Dice: 0.8704 | Mean F1 Score: 0.8704\n",
      "\n",
      "\n"
     ]
    },
    {
     "name": "stderr",
     "output_type": "stream",
     "text": [
      "Epoch 20/100: 100%|██████████| 1250/1250 [14:39<00:00,  1.42batch/s, loss=0.0249]\n",
      "Validation: 100%|██████████| 175/175 [02:54<00:00,  1.00batch/s, dice_score=0.897, f1_score=0.897, loss=0.0533, mean_iou=0.826] \n"
     ]
    },
    {
     "name": "stdout",
     "output_type": "stream",
     "text": [
      "Validation => Mean Loss: 0.0622 | Mean IoU: 0.7964 | Mean Dice: 0.8731 | Mean F1 Score: 0.8731\n",
      "\n",
      "\n"
     ]
    },
    {
     "name": "stderr",
     "output_type": "stream",
     "text": [
      "Epoch 21/100: 100%|██████████| 1250/1250 [14:36<00:00,  1.43batch/s, loss=0.0383]\n",
      "Validation: 100%|██████████| 175/175 [02:51<00:00,  1.02batch/s, dice_score=0.906, f1_score=0.906, loss=0.0513, mean_iou=0.839]\n"
     ]
    },
    {
     "name": "stdout",
     "output_type": "stream",
     "text": [
      "Validation => Mean Loss: 0.0611 | Mean IoU: 0.7959 | Mean Dice: 0.8727 | Mean F1 Score: 0.8727\n",
      "\n",
      "\n"
     ]
    },
    {
     "name": "stderr",
     "output_type": "stream",
     "text": [
      "Epoch 22/100: 100%|██████████| 1250/1250 [14:32<00:00,  1.43batch/s, loss=0.048] \n",
      "Validation: 100%|██████████| 175/175 [02:52<00:00,  1.01batch/s, dice_score=0.903, f1_score=0.903, loss=0.0499, mean_iou=0.834] \n"
     ]
    },
    {
     "name": "stdout",
     "output_type": "stream",
     "text": [
      "Validation => Mean Loss: 0.0622 | Mean IoU: 0.7922 | Mean Dice: 0.8697 | Mean F1 Score: 0.8697\n",
      "\n",
      "\n"
     ]
    },
    {
     "name": "stderr",
     "output_type": "stream",
     "text": [
      "Epoch 23/100: 100%|██████████| 1250/1250 [14:12<00:00,  1.47batch/s, loss=0.0476]\n",
      "Validation: 100%|██████████| 175/175 [02:50<00:00,  1.03batch/s, dice_score=0.89, f1_score=0.89, loss=0.0534, mean_iou=0.816]  \n"
     ]
    },
    {
     "name": "stdout",
     "output_type": "stream",
     "text": [
      "Validation => Mean Loss: 0.0620 | Mean IoU: 0.7896 | Mean Dice: 0.8678 | Mean F1 Score: 0.8678\n",
      "\n",
      "\n"
     ]
    },
    {
     "name": "stderr",
     "output_type": "stream",
     "text": [
      "Epoch 24/100: 100%|██████████| 1250/1250 [14:03<00:00,  1.48batch/s, loss=0.0385]\n",
      "Validation: 100%|██████████| 175/175 [02:50<00:00,  1.03batch/s, dice_score=0.907, f1_score=0.907, loss=0.0495, mean_iou=0.84] \n"
     ]
    },
    {
     "name": "stdout",
     "output_type": "stream",
     "text": [
      "Validation => Mean Loss: 0.0608 | Mean IoU: 0.7976 | Mean Dice: 0.8741 | Mean F1 Score: 0.8741\n",
      "\n",
      "\n"
     ]
    },
    {
     "name": "stderr",
     "output_type": "stream",
     "text": [
      "Epoch 25/100: 100%|██████████| 1250/1250 [14:03<00:00,  1.48batch/s, loss=0.0511]\n",
      "Validation: 100%|██████████| 175/175 [02:50<00:00,  1.03batch/s, dice_score=0.904, f1_score=0.904, loss=0.0535, mean_iou=0.836]\n"
     ]
    },
    {
     "name": "stdout",
     "output_type": "stream",
     "text": [
      "Validation => Mean Loss: 0.0608 | Mean IoU: 0.8026 | Mean Dice: 0.8784 | Mean F1 Score: 0.8784\n",
      "Validation IoU improved from 0.7987 to 0.8026\n",
      "\n",
      "\n"
     ]
    },
    {
     "name": "stderr",
     "output_type": "stream",
     "text": [
      "Epoch 26/100: 100%|██████████| 1250/1250 [14:51<00:00,  1.40batch/s, loss=0.0531]\n",
      "Validation: 100%|██████████| 175/175 [02:59<00:00,  1.02s/batch, dice_score=0.908, f1_score=0.908, loss=0.0497, mean_iou=0.841] \n"
     ]
    },
    {
     "name": "stdout",
     "output_type": "stream",
     "text": [
      "Validation => Mean Loss: 0.0595 | Mean IoU: 0.8030 | Mean Dice: 0.8785 | Mean F1 Score: 0.8785\n",
      "Validation IoU improved from 0.8026 to 0.8030\n",
      "\n",
      "\n"
     ]
    },
    {
     "name": "stderr",
     "output_type": "stream",
     "text": [
      "Epoch 27/100: 100%|██████████| 1250/1250 [15:06<00:00,  1.38batch/s, loss=0.0341]\n",
      "Validation: 100%|██████████| 175/175 [02:50<00:00,  1.03batch/s, dice_score=0.909, f1_score=0.909, loss=0.0479, mean_iou=0.843]\n"
     ]
    },
    {
     "name": "stdout",
     "output_type": "stream",
     "text": [
      "Validation => Mean Loss: 0.0610 | Mean IoU: 0.8026 | Mean Dice: 0.8780 | Mean F1 Score: 0.8780\n",
      "\n",
      "\n"
     ]
    },
    {
     "name": "stderr",
     "output_type": "stream",
     "text": [
      "Epoch 28/100: 100%|██████████| 1250/1250 [12:26<00:00,  1.67batch/s, loss=0.0467]\n",
      "Validation: 100%|██████████| 175/175 [02:34<00:00,  1.14batch/s, dice_score=0.905, f1_score=0.905, loss=0.0507, mean_iou=0.837]\n"
     ]
    },
    {
     "name": "stdout",
     "output_type": "stream",
     "text": [
      "Validation => Mean Loss: 0.0597 | Mean IoU: 0.8040 | Mean Dice: 0.8792 | Mean F1 Score: 0.8792\n",
      "Validation IoU improved from 0.8030 to 0.8040\n",
      "\n",
      "\n"
     ]
    },
    {
     "name": "stderr",
     "output_type": "stream",
     "text": [
      "Epoch 29/100: 100%|██████████| 1250/1250 [15:03<00:00,  1.38batch/s, loss=0.0524]\n",
      "Validation: 100%|██████████| 175/175 [02:52<00:00,  1.01batch/s, dice_score=0.905, f1_score=0.905, loss=0.0494, mean_iou=0.837]\n"
     ]
    },
    {
     "name": "stdout",
     "output_type": "stream",
     "text": [
      "Validation => Mean Loss: 0.0602 | Mean IoU: 0.8029 | Mean Dice: 0.8782 | Mean F1 Score: 0.8782\n",
      "\n",
      "\n"
     ]
    },
    {
     "name": "stderr",
     "output_type": "stream",
     "text": [
      "Epoch 30/100: 100%|██████████| 1250/1250 [14:53<00:00,  1.40batch/s, loss=0.0593]\n",
      "Validation: 100%|██████████| 175/175 [02:49<00:00,  1.03batch/s, dice_score=0.903, f1_score=0.903, loss=0.05, mean_iou=0.834]   \n"
     ]
    },
    {
     "name": "stdout",
     "output_type": "stream",
     "text": [
      "Validation => Mean Loss: 0.0612 | Mean IoU: 0.8022 | Mean Dice: 0.8773 | Mean F1 Score: 0.8773\n",
      "\n",
      "\n"
     ]
    },
    {
     "name": "stderr",
     "output_type": "stream",
     "text": [
      "Epoch 31/100: 100%|██████████| 1250/1250 [13:58<00:00,  1.49batch/s, loss=0.0705]\n",
      "Validation: 100%|██████████| 175/175 [02:24<00:00,  1.21batch/s, dice_score=0.904, f1_score=0.904, loss=0.0502, mean_iou=0.835] \n"
     ]
    },
    {
     "name": "stdout",
     "output_type": "stream",
     "text": [
      "Validation => Mean Loss: 0.0611 | Mean IoU: 0.7998 | Mean Dice: 0.8755 | Mean F1 Score: 0.8755\n",
      "\n",
      "\n"
     ]
    },
    {
     "name": "stderr",
     "output_type": "stream",
     "text": [
      "Epoch 32/100: 100%|██████████| 1250/1250 [11:53<00:00,  1.75batch/s, loss=0.045] \n",
      "Validation: 100%|██████████| 175/175 [02:24<00:00,  1.22batch/s, dice_score=0.909, f1_score=0.909, loss=0.0475, mean_iou=0.844] \n"
     ]
    },
    {
     "name": "stdout",
     "output_type": "stream",
     "text": [
      "Validation => Mean Loss: 0.0607 | Mean IoU: 0.8021 | Mean Dice: 0.8777 | Mean F1 Score: 0.8777\n",
      "\n",
      "\n"
     ]
    },
    {
     "name": "stderr",
     "output_type": "stream",
     "text": [
      "Epoch 33/100: 100%|██████████| 1250/1250 [12:57<00:00,  1.61batch/s, loss=0.051] \n",
      "Validation: 100%|██████████| 175/175 [02:49<00:00,  1.03batch/s, dice_score=0.906, f1_score=0.906, loss=0.0504, mean_iou=0.839] \n"
     ]
    },
    {
     "name": "stdout",
     "output_type": "stream",
     "text": [
      "Validation => Mean Loss: 0.0604 | Mean IoU: 0.8061 | Mean Dice: 0.8809 | Mean F1 Score: 0.8809\n",
      "Validation IoU improved from 0.8040 to 0.8061\n",
      "\n",
      "\n"
     ]
    },
    {
     "name": "stderr",
     "output_type": "stream",
     "text": [
      "Epoch 34/100: 100%|██████████| 1250/1250 [14:13<00:00,  1.46batch/s, loss=0.0746]\n",
      "Validation: 100%|██████████| 175/175 [02:50<00:00,  1.03batch/s, dice_score=0.901, f1_score=0.901, loss=0.0512, mean_iou=0.831]\n"
     ]
    },
    {
     "name": "stdout",
     "output_type": "stream",
     "text": [
      "Validation => Mean Loss: 0.0596 | Mean IoU: 0.8058 | Mean Dice: 0.8804 | Mean F1 Score: 0.8804\n",
      "\n",
      "\n"
     ]
    },
    {
     "name": "stderr",
     "output_type": "stream",
     "text": [
      "Epoch 35/100: 100%|██████████| 1250/1250 [14:08<00:00,  1.47batch/s, loss=0.0394]\n",
      "Validation: 100%|██████████| 175/175 [02:49<00:00,  1.04batch/s, dice_score=0.909, f1_score=0.909, loss=0.0482, mean_iou=0.843] \n"
     ]
    },
    {
     "name": "stdout",
     "output_type": "stream",
     "text": [
      "Validation => Mean Loss: 0.0602 | Mean IoU: 0.8066 | Mean Dice: 0.8809 | Mean F1 Score: 0.8809\n",
      "Validation IoU improved from 0.8061 to 0.8066\n",
      "\n",
      "\n"
     ]
    },
    {
     "name": "stderr",
     "output_type": "stream",
     "text": [
      "Epoch 36/100: 100%|██████████| 1250/1250 [14:19<00:00,  1.45batch/s, loss=0.0315]\n",
      "Validation: 100%|██████████| 175/175 [02:49<00:00,  1.03batch/s, dice_score=0.9, f1_score=0.9, loss=0.0519, mean_iou=0.83]      \n"
     ]
    },
    {
     "name": "stdout",
     "output_type": "stream",
     "text": [
      "Validation => Mean Loss: 0.0608 | Mean IoU: 0.8022 | Mean Dice: 0.8774 | Mean F1 Score: 0.8774\n",
      "\n",
      "\n"
     ]
    },
    {
     "name": "stderr",
     "output_type": "stream",
     "text": [
      "Epoch 37/100: 100%|██████████| 1250/1250 [14:47<00:00,  1.41batch/s, loss=0.0449]\n",
      "Validation: 100%|██████████| 175/175 [02:49<00:00,  1.03batch/s, dice_score=0.897, f1_score=0.897, loss=0.0534, mean_iou=0.826]\n"
     ]
    },
    {
     "name": "stdout",
     "output_type": "stream",
     "text": [
      "Validation => Mean Loss: 0.0625 | Mean IoU: 0.8022 | Mean Dice: 0.8774 | Mean F1 Score: 0.8774\n",
      "\n",
      "\n"
     ]
    },
    {
     "name": "stderr",
     "output_type": "stream",
     "text": [
      "Epoch 38/100: 100%|██████████| 1250/1250 [14:34<00:00,  1.43batch/s, loss=0.0379]\n",
      "Validation: 100%|██████████| 175/175 [02:49<00:00,  1.03batch/s, dice_score=0.904, f1_score=0.904, loss=0.0507, mean_iou=0.835]\n"
     ]
    },
    {
     "name": "stdout",
     "output_type": "stream",
     "text": [
      "Validation => Mean Loss: 0.0604 | Mean IoU: 0.8054 | Mean Dice: 0.8800 | Mean F1 Score: 0.8800\n",
      "\n",
      "\n"
     ]
    },
    {
     "name": "stderr",
     "output_type": "stream",
     "text": [
      "Epoch 39/100: 100%|██████████| 1250/1250 [13:06<00:00,  1.59batch/s, loss=0.0328]\n",
      "Validation: 100%|██████████| 175/175 [02:51<00:00,  1.02batch/s, dice_score=0.905, f1_score=0.905, loss=0.0503, mean_iou=0.837] \n"
     ]
    },
    {
     "name": "stdout",
     "output_type": "stream",
     "text": [
      "Validation => Mean Loss: 0.0609 | Mean IoU: 0.8036 | Mean Dice: 0.8788 | Mean F1 Score: 0.8788\n",
      "\n",
      "\n"
     ]
    },
    {
     "name": "stderr",
     "output_type": "stream",
     "text": [
      "Epoch 40/100: 100%|██████████| 1250/1250 [14:41<00:00,  1.42batch/s, loss=0.0448]\n",
      "Validation: 100%|██████████| 175/175 [02:50<00:00,  1.02batch/s, dice_score=0.902, f1_score=0.902, loss=0.0503, mean_iou=0.834] \n"
     ]
    },
    {
     "name": "stdout",
     "output_type": "stream",
     "text": [
      "Validation => Mean Loss: 0.0608 | Mean IoU: 0.8042 | Mean Dice: 0.8791 | Mean F1 Score: 0.8791\n",
      "\n",
      "\n"
     ]
    },
    {
     "name": "stderr",
     "output_type": "stream",
     "text": [
      "Epoch 41/100: 100%|██████████| 1250/1250 [15:10<00:00,  1.37batch/s, loss=0.0471]\n",
      "Validation: 100%|██████████| 175/175 [02:59<00:00,  1.02s/batch, dice_score=0.905, f1_score=0.905, loss=0.0508, mean_iou=0.837]\n"
     ]
    },
    {
     "name": "stdout",
     "output_type": "stream",
     "text": [
      "Validation => Mean Loss: 0.0610 | Mean IoU: 0.8062 | Mean Dice: 0.8808 | Mean F1 Score: 0.8808\n",
      "\n",
      "\n"
     ]
    },
    {
     "name": "stderr",
     "output_type": "stream",
     "text": [
      "Epoch 42/100: 100%|██████████| 1250/1250 [15:12<00:00,  1.37batch/s, loss=0.0213]\n",
      "Validation: 100%|██████████| 175/175 [02:57<00:00,  1.02s/batch, dice_score=0.91, f1_score=0.91, loss=0.048, mean_iou=0.844]    \n"
     ]
    },
    {
     "name": "stdout",
     "output_type": "stream",
     "text": [
      "Validation => Mean Loss: 0.0608 | Mean IoU: 0.8058 | Mean Dice: 0.8804 | Mean F1 Score: 0.8804\n",
      "\n",
      "\n"
     ]
    },
    {
     "name": "stderr",
     "output_type": "stream",
     "text": [
      "Epoch 43/100: 100%|██████████| 1250/1250 [14:29<00:00,  1.44batch/s, loss=0.0361]\n",
      "Validation: 100%|██████████| 175/175 [02:52<00:00,  1.01batch/s, dice_score=0.902, f1_score=0.902, loss=0.0525, mean_iou=0.833]\n"
     ]
    },
    {
     "name": "stdout",
     "output_type": "stream",
     "text": [
      "Validation => Mean Loss: 0.0615 | Mean IoU: 0.8070 | Mean Dice: 0.8811 | Mean F1 Score: 0.8811\n",
      "Validation IoU improved from 0.8066 to 0.8070\n",
      "\n",
      "\n"
     ]
    },
    {
     "name": "stderr",
     "output_type": "stream",
     "text": [
      "Epoch 44/100: 100%|██████████| 1250/1250 [15:13<00:00,  1.37batch/s, loss=0.0256]\n",
      "Validation: 100%|██████████| 175/175 [02:49<00:00,  1.03batch/s, dice_score=0.91, f1_score=0.91, loss=0.0482, mean_iou=0.845]   \n"
     ]
    },
    {
     "name": "stdout",
     "output_type": "stream",
     "text": [
      "Validation => Mean Loss: 0.0609 | Mean IoU: 0.8086 | Mean Dice: 0.8826 | Mean F1 Score: 0.8826\n",
      "Validation IoU improved from 0.8070 to 0.8086\n",
      "\n",
      "\n"
     ]
    },
    {
     "name": "stderr",
     "output_type": "stream",
     "text": [
      "Epoch 45/100: 100%|██████████| 1250/1250 [14:32<00:00,  1.43batch/s, loss=0.0357]\n",
      "Validation: 100%|██████████| 175/175 [02:52<00:00,  1.02batch/s, dice_score=0.909, f1_score=0.909, loss=0.0478, mean_iou=0.844]\n"
     ]
    },
    {
     "name": "stdout",
     "output_type": "stream",
     "text": [
      "Validation => Mean Loss: 0.0601 | Mean IoU: 0.8066 | Mean Dice: 0.8810 | Mean F1 Score: 0.8810\n",
      "\n",
      "\n"
     ]
    },
    {
     "name": "stderr",
     "output_type": "stream",
     "text": [
      "Epoch 46/100: 100%|██████████| 1250/1250 [14:19<00:00,  1.45batch/s, loss=0.0346]\n",
      "Validation: 100%|██████████| 175/175 [02:50<00:00,  1.03batch/s, dice_score=0.903, f1_score=0.903, loss=0.0519, mean_iou=0.834] \n"
     ]
    },
    {
     "name": "stdout",
     "output_type": "stream",
     "text": [
      "Validation => Mean Loss: 0.0617 | Mean IoU: 0.8084 | Mean Dice: 0.8822 | Mean F1 Score: 0.8822\n",
      "\n",
      "\n"
     ]
    },
    {
     "name": "stderr",
     "output_type": "stream",
     "text": [
      "Epoch 47/100: 100%|██████████| 1250/1250 [14:19<00:00,  1.45batch/s, loss=0.0518]\n",
      "Validation: 100%|██████████| 175/175 [02:35<00:00,  1.13batch/s, dice_score=0.908, f1_score=0.908, loss=0.0481, mean_iou=0.842] \n"
     ]
    },
    {
     "name": "stdout",
     "output_type": "stream",
     "text": [
      "Validation => Mean Loss: 0.0609 | Mean IoU: 0.8076 | Mean Dice: 0.8817 | Mean F1 Score: 0.8817\n",
      "\n",
      "\n"
     ]
    },
    {
     "name": "stderr",
     "output_type": "stream",
     "text": [
      "Epoch 48/100: 100%|██████████| 1250/1250 [14:28<00:00,  1.44batch/s, loss=0.0324]\n",
      "Validation: 100%|██████████| 175/175 [02:57<00:00,  1.01s/batch, dice_score=0.906, f1_score=0.906, loss=0.0497, mean_iou=0.839]\n"
     ]
    },
    {
     "name": "stdout",
     "output_type": "stream",
     "text": [
      "Validation => Mean Loss: 0.0610 | Mean IoU: 0.8076 | Mean Dice: 0.8817 | Mean F1 Score: 0.8817\n",
      "\n",
      "\n"
     ]
    },
    {
     "name": "stderr",
     "output_type": "stream",
     "text": [
      "Epoch 49/100: 100%|██████████| 1250/1250 [14:55<00:00,  1.40batch/s, loss=0.0186]\n",
      "Validation: 100%|██████████| 175/175 [02:53<00:00,  1.01batch/s, dice_score=0.907, f1_score=0.907, loss=0.0484, mean_iou=0.841] \n"
     ]
    },
    {
     "name": "stdout",
     "output_type": "stream",
     "text": [
      "Validation => Mean Loss: 0.0612 | Mean IoU: 0.8086 | Mean Dice: 0.8824 | Mean F1 Score: 0.8824\n",
      "\n",
      "\n"
     ]
    },
    {
     "name": "stderr",
     "output_type": "stream",
     "text": [
      "Epoch 50/100: 100%|██████████| 1250/1250 [14:30<00:00,  1.44batch/s, loss=0.0441]\n",
      "Validation: 100%|██████████| 175/175 [02:49<00:00,  1.03batch/s, dice_score=0.912, f1_score=0.912, loss=0.0481, mean_iou=0.847]\n"
     ]
    },
    {
     "name": "stdout",
     "output_type": "stream",
     "text": [
      "Validation => Mean Loss: 0.0618 | Mean IoU: 0.8090 | Mean Dice: 0.8828 | Mean F1 Score: 0.8828\n",
      "Validation IoU improved from 0.8086 to 0.8090\n",
      "\n",
      "\n"
     ]
    },
    {
     "name": "stderr",
     "output_type": "stream",
     "text": [
      "Epoch 51/100: 100%|██████████| 1250/1250 [14:38<00:00,  1.42batch/s, loss=0.0266]\n",
      "Validation: 100%|██████████| 175/175 [02:48<00:00,  1.04batch/s, dice_score=0.904, f1_score=0.904, loss=0.0524, mean_iou=0.836] \n"
     ]
    },
    {
     "name": "stdout",
     "output_type": "stream",
     "text": [
      "Validation => Mean Loss: 0.0628 | Mean IoU: 0.8055 | Mean Dice: 0.8799 | Mean F1 Score: 0.8799\n",
      "\n",
      "\n"
     ]
    },
    {
     "name": "stderr",
     "output_type": "stream",
     "text": [
      "Epoch 52/100: 100%|██████████| 1250/1250 [14:30<00:00,  1.44batch/s, loss=0.0459]\n",
      "Validation: 100%|██████████| 175/175 [02:34<00:00,  1.13batch/s, dice_score=0.905, f1_score=0.905, loss=0.0498, mean_iou=0.838]\n"
     ]
    },
    {
     "name": "stdout",
     "output_type": "stream",
     "text": [
      "Validation => Mean Loss: 0.0617 | Mean IoU: 0.8050 | Mean Dice: 0.8795 | Mean F1 Score: 0.8795\n",
      "\n",
      "\n"
     ]
    },
    {
     "name": "stderr",
     "output_type": "stream",
     "text": [
      "Epoch 53/100: 100%|██████████| 1250/1250 [13:10<00:00,  1.58batch/s, loss=0.0539]\n",
      "Validation: 100%|██████████| 175/175 [02:52<00:00,  1.01batch/s, dice_score=0.907, f1_score=0.907, loss=0.0488, mean_iou=0.84]  \n"
     ]
    },
    {
     "name": "stdout",
     "output_type": "stream",
     "text": [
      "Validation => Mean Loss: 0.0618 | Mean IoU: 0.8072 | Mean Dice: 0.8814 | Mean F1 Score: 0.8814\n",
      "\n",
      "\n"
     ]
    },
    {
     "name": "stderr",
     "output_type": "stream",
     "text": [
      "Epoch 54/100: 100%|██████████| 1250/1250 [14:32<00:00,  1.43batch/s, loss=0.0413]\n",
      "Validation: 100%|██████████| 175/175 [02:35<00:00,  1.13batch/s, dice_score=0.905, f1_score=0.905, loss=0.0503, mean_iou=0.838] \n"
     ]
    },
    {
     "name": "stdout",
     "output_type": "stream",
     "text": [
      "Validation => Mean Loss: 0.0621 | Mean IoU: 0.8080 | Mean Dice: 0.8820 | Mean F1 Score: 0.8820\n",
      "\n",
      "\n"
     ]
    },
    {
     "name": "stderr",
     "output_type": "stream",
     "text": [
      "Epoch 55/100: 100%|██████████| 1250/1250 [13:10<00:00,  1.58batch/s, loss=0.0493]\n",
      "Validation: 100%|██████████| 175/175 [02:34<00:00,  1.13batch/s, dice_score=0.908, f1_score=0.908, loss=0.0492, mean_iou=0.842]\n"
     ]
    },
    {
     "name": "stdout",
     "output_type": "stream",
     "text": [
      "Validation => Mean Loss: 0.0623 | Mean IoU: 0.8051 | Mean Dice: 0.8798 | Mean F1 Score: 0.8798\n",
      "\n",
      "\n"
     ]
    },
    {
     "name": "stderr",
     "output_type": "stream",
     "text": [
      "Epoch 56/100: 100%|██████████| 1250/1250 [13:09<00:00,  1.58batch/s, loss=0.0194]\n",
      "Validation: 100%|██████████| 175/175 [02:34<00:00,  1.13batch/s, dice_score=0.911, f1_score=0.911, loss=0.0481, mean_iou=0.847]\n"
     ]
    },
    {
     "name": "stdout",
     "output_type": "stream",
     "text": [
      "Validation => Mean Loss: 0.0615 | Mean IoU: 0.8082 | Mean Dice: 0.8821 | Mean F1 Score: 0.8821\n",
      "\n",
      "\n"
     ]
    },
    {
     "name": "stderr",
     "output_type": "stream",
     "text": [
      "Epoch 57/100: 100%|██████████| 1250/1250 [13:39<00:00,  1.53batch/s, loss=0.072] \n",
      "Validation: 100%|██████████| 175/175 [02:49<00:00,  1.03batch/s, dice_score=0.904, f1_score=0.904, loss=0.0514, mean_iou=0.836] \n"
     ]
    },
    {
     "name": "stdout",
     "output_type": "stream",
     "text": [
      "Validation => Mean Loss: 0.0619 | Mean IoU: 0.8087 | Mean Dice: 0.8824 | Mean F1 Score: 0.8824\n",
      "\n",
      "\n"
     ]
    },
    {
     "name": "stderr",
     "output_type": "stream",
     "text": [
      "Epoch 58/100: 100%|██████████| 1250/1250 [13:25<00:00,  1.55batch/s, loss=0.0473]\n",
      "Validation: 100%|██████████| 175/175 [02:36<00:00,  1.12batch/s, dice_score=0.909, f1_score=0.909, loss=0.0485, mean_iou=0.843] \n"
     ]
    },
    {
     "name": "stdout",
     "output_type": "stream",
     "text": [
      "Validation => Mean Loss: 0.0620 | Mean IoU: 0.8087 | Mean Dice: 0.8825 | Mean F1 Score: 0.8825\n",
      "\n",
      "\n"
     ]
    },
    {
     "name": "stderr",
     "output_type": "stream",
     "text": [
      "Epoch 59/100: 100%|██████████| 1250/1250 [14:10<00:00,  1.47batch/s, loss=0.0278]\n",
      "Validation: 100%|██████████| 175/175 [02:49<00:00,  1.03batch/s, dice_score=0.907, f1_score=0.907, loss=0.0499, mean_iou=0.841] \n"
     ]
    },
    {
     "name": "stdout",
     "output_type": "stream",
     "text": [
      "Validation => Mean Loss: 0.0621 | Mean IoU: 0.8085 | Mean Dice: 0.8824 | Mean F1 Score: 0.8824\n",
      "\n",
      "\n"
     ]
    },
    {
     "name": "stderr",
     "output_type": "stream",
     "text": [
      "Epoch 60/100: 100%|██████████| 1250/1250 [14:34<00:00,  1.43batch/s, loss=0.026] \n",
      "Validation: 100%|██████████| 175/175 [02:50<00:00,  1.02batch/s, dice_score=0.908, f1_score=0.908, loss=0.0492, mean_iou=0.842] \n"
     ]
    },
    {
     "name": "stdout",
     "output_type": "stream",
     "text": [
      "Validation => Mean Loss: 0.0624 | Mean IoU: 0.8094 | Mean Dice: 0.8831 | Mean F1 Score: 0.8831\n",
      "Validation IoU improved from 0.8090 to 0.8094\n",
      "\n",
      "\n"
     ]
    },
    {
     "name": "stderr",
     "output_type": "stream",
     "text": [
      "Epoch 61/100: 100%|██████████| 1250/1250 [14:54<00:00,  1.40batch/s, loss=0.0503]\n",
      "Validation: 100%|██████████| 175/175 [02:44<00:00,  1.06batch/s, dice_score=0.906, f1_score=0.906, loss=0.0505, mean_iou=0.839]\n"
     ]
    },
    {
     "name": "stdout",
     "output_type": "stream",
     "text": [
      "Validation => Mean Loss: 0.0625 | Mean IoU: 0.8076 | Mean Dice: 0.8816 | Mean F1 Score: 0.8816\n",
      "\n",
      "\n"
     ]
    },
    {
     "name": "stderr",
     "output_type": "stream",
     "text": [
      "Epoch 62/100: 100%|██████████| 1250/1250 [12:34<00:00,  1.66batch/s, loss=0.0514]\n",
      "Validation: 100%|██████████| 175/175 [02:49<00:00,  1.03batch/s, dice_score=0.903, f1_score=0.903, loss=0.0533, mean_iou=0.834]\n"
     ]
    },
    {
     "name": "stdout",
     "output_type": "stream",
     "text": [
      "Validation => Mean Loss: 0.0634 | Mean IoU: 0.8080 | Mean Dice: 0.8819 | Mean F1 Score: 0.8819\n",
      "\n",
      "\n"
     ]
    },
    {
     "name": "stderr",
     "output_type": "stream",
     "text": [
      "Epoch 63/100: 100%|██████████| 1250/1250 [14:21<00:00,  1.45batch/s, loss=0.0408]\n",
      "Validation: 100%|██████████| 175/175 [02:49<00:00,  1.03batch/s, dice_score=0.902, f1_score=0.902, loss=0.0553, mean_iou=0.833]\n"
     ]
    },
    {
     "name": "stdout",
     "output_type": "stream",
     "text": [
      "Validation => Mean Loss: 0.0640 | Mean IoU: 0.8074 | Mean Dice: 0.8814 | Mean F1 Score: 0.8814\n",
      "\n",
      "\n"
     ]
    },
    {
     "name": "stderr",
     "output_type": "stream",
     "text": [
      "Epoch 64/100: 100%|██████████| 1250/1250 [14:07<00:00,  1.47batch/s, loss=0.0309]\n",
      "Validation: 100%|██████████| 175/175 [02:49<00:00,  1.04batch/s, dice_score=0.909, f1_score=0.909, loss=0.0498, mean_iou=0.843]\n"
     ]
    },
    {
     "name": "stdout",
     "output_type": "stream",
     "text": [
      "Validation => Mean Loss: 0.0634 | Mean IoU: 0.8090 | Mean Dice: 0.8827 | Mean F1 Score: 0.8827\n",
      "\n",
      "\n"
     ]
    },
    {
     "name": "stderr",
     "output_type": "stream",
     "text": [
      "Epoch 65/100: 100%|██████████| 1250/1250 [14:20<00:00,  1.45batch/s, loss=0.0505]\n",
      "Validation: 100%|██████████| 175/175 [02:50<00:00,  1.03batch/s, dice_score=0.908, f1_score=0.908, loss=0.0525, mean_iou=0.841]\n"
     ]
    },
    {
     "name": "stdout",
     "output_type": "stream",
     "text": [
      "Validation => Mean Loss: 0.0636 | Mean IoU: 0.8083 | Mean Dice: 0.8821 | Mean F1 Score: 0.8821\n",
      "\n",
      "\n"
     ]
    },
    {
     "name": "stderr",
     "output_type": "stream",
     "text": [
      "Epoch 66/100: 100%|██████████| 1250/1250 [14:32<00:00,  1.43batch/s, loss=0.0504] \n",
      "Validation: 100%|██████████| 175/175 [02:49<00:00,  1.04batch/s, dice_score=0.905, f1_score=0.905, loss=0.052, mean_iou=0.838] \n"
     ]
    },
    {
     "name": "stdout",
     "output_type": "stream",
     "text": [
      "Validation => Mean Loss: 0.0632 | Mean IoU: 0.8094 | Mean Dice: 0.8831 | Mean F1 Score: 0.8831\n",
      "Validation IoU improved from 0.8094 to 0.8094\n",
      "\n",
      "\n"
     ]
    },
    {
     "name": "stderr",
     "output_type": "stream",
     "text": [
      "Epoch 67/100: 100%|██████████| 1250/1250 [14:32<00:00,  1.43batch/s, loss=0.052] \n",
      "Validation: 100%|██████████| 175/175 [02:49<00:00,  1.03batch/s, dice_score=0.908, f1_score=0.908, loss=0.0515, mean_iou=0.841] \n"
     ]
    },
    {
     "name": "stdout",
     "output_type": "stream",
     "text": [
      "Validation => Mean Loss: 0.0634 | Mean IoU: 0.8086 | Mean Dice: 0.8824 | Mean F1 Score: 0.8824\n",
      "\n",
      "\n"
     ]
    },
    {
     "name": "stderr",
     "output_type": "stream",
     "text": [
      "Epoch 68/100: 100%|██████████| 1250/1250 [14:29<00:00,  1.44batch/s, loss=0.0417]\n",
      "Validation: 100%|██████████| 175/175 [02:51<00:00,  1.02batch/s, dice_score=0.904, f1_score=0.904, loss=0.0517, mean_iou=0.836] \n"
     ]
    },
    {
     "name": "stdout",
     "output_type": "stream",
     "text": [
      "Validation => Mean Loss: 0.0632 | Mean IoU: 0.8081 | Mean Dice: 0.8820 | Mean F1 Score: 0.8820\n",
      "\n",
      "\n"
     ]
    },
    {
     "name": "stderr",
     "output_type": "stream",
     "text": [
      "Epoch 69/100: 100%|██████████| 1250/1250 [14:20<00:00,  1.45batch/s, loss=0.0461]\n",
      "Validation: 100%|██████████| 175/175 [02:48<00:00,  1.04batch/s, dice_score=0.904, f1_score=0.904, loss=0.0533, mean_iou=0.836]\n"
     ]
    },
    {
     "name": "stdout",
     "output_type": "stream",
     "text": [
      "Validation => Mean Loss: 0.0640 | Mean IoU: 0.8091 | Mean Dice: 0.8827 | Mean F1 Score: 0.8827\n",
      "\n",
      "\n"
     ]
    },
    {
     "name": "stderr",
     "output_type": "stream",
     "text": [
      "Epoch 70/100: 100%|██████████| 1250/1250 [14:01<00:00,  1.49batch/s, loss=0.035] \n",
      "Validation: 100%|██████████| 175/175 [02:49<00:00,  1.03batch/s, dice_score=0.908, f1_score=0.908, loss=0.0506, mean_iou=0.841]\n"
     ]
    },
    {
     "name": "stdout",
     "output_type": "stream",
     "text": [
      "Validation => Mean Loss: 0.0643 | Mean IoU: 0.8086 | Mean Dice: 0.8824 | Mean F1 Score: 0.8824\n",
      "\n",
      "\n"
     ]
    },
    {
     "name": "stderr",
     "output_type": "stream",
     "text": [
      "Epoch 71/100: 100%|██████████| 1250/1250 [14:47<00:00,  1.41batch/s, loss=0.0315]\n",
      "Validation: 100%|██████████| 175/175 [02:56<00:00,  1.01s/batch, dice_score=0.905, f1_score=0.905, loss=0.0533, mean_iou=0.837] \n"
     ]
    },
    {
     "name": "stdout",
     "output_type": "stream",
     "text": [
      "Validation => Mean Loss: 0.0652 | Mean IoU: 0.8093 | Mean Dice: 0.8828 | Mean F1 Score: 0.8828\n",
      "\n",
      "\n"
     ]
    },
    {
     "name": "stderr",
     "output_type": "stream",
     "text": [
      "Epoch 72/100: 100%|██████████| 1250/1250 [14:52<00:00,  1.40batch/s, loss=0.0354]\n",
      "Validation: 100%|██████████| 175/175 [02:58<00:00,  1.02s/batch, dice_score=0.905, f1_score=0.905, loss=0.0528, mean_iou=0.837] \n"
     ]
    },
    {
     "name": "stdout",
     "output_type": "stream",
     "text": [
      "Validation => Mean Loss: 0.0637 | Mean IoU: 0.8091 | Mean Dice: 0.8828 | Mean F1 Score: 0.8828\n",
      "\n",
      "\n"
     ]
    },
    {
     "name": "stderr",
     "output_type": "stream",
     "text": [
      "Epoch 73/100: 100%|██████████| 1250/1250 [14:59<00:00,  1.39batch/s, loss=0.0368]\n",
      "Validation: 100%|██████████| 175/175 [02:58<00:00,  1.02s/batch, dice_score=0.905, f1_score=0.905, loss=0.0518, mean_iou=0.837] \n"
     ]
    },
    {
     "name": "stdout",
     "output_type": "stream",
     "text": [
      "Validation => Mean Loss: 0.0640 | Mean IoU: 0.8088 | Mean Dice: 0.8826 | Mean F1 Score: 0.8826\n",
      "\n",
      "\n"
     ]
    },
    {
     "name": "stderr",
     "output_type": "stream",
     "text": [
      "Epoch 74/100: 100%|██████████| 1250/1250 [15:07<00:00,  1.38batch/s, loss=0.0176]\n",
      "Validation: 100%|██████████| 175/175 [02:49<00:00,  1.03batch/s, dice_score=0.907, f1_score=0.907, loss=0.0512, mean_iou=0.841] \n"
     ]
    },
    {
     "name": "stdout",
     "output_type": "stream",
     "text": [
      "Validation => Mean Loss: 0.0646 | Mean IoU: 0.8086 | Mean Dice: 0.8825 | Mean F1 Score: 0.8825\n",
      "\n",
      "\n"
     ]
    },
    {
     "name": "stderr",
     "output_type": "stream",
     "text": [
      "Epoch 75/100: 100%|██████████| 1250/1250 [12:08<00:00,  1.72batch/s, loss=0.0243]\n",
      "Validation: 100%|██████████| 175/175 [02:44<00:00,  1.06batch/s, dice_score=0.909, f1_score=0.909, loss=0.0505, mean_iou=0.843]\n"
     ]
    },
    {
     "name": "stdout",
     "output_type": "stream",
     "text": [
      "Validation => Mean Loss: 0.0657 | Mean IoU: 0.8092 | Mean Dice: 0.8828 | Mean F1 Score: 0.8828\n",
      "\n",
      "\n"
     ]
    },
    {
     "name": "stderr",
     "output_type": "stream",
     "text": [
      "Epoch 76/100: 100%|██████████| 1250/1250 [15:02<00:00,  1.38batch/s, loss=0.0532]\n",
      "Validation: 100%|██████████| 175/175 [02:53<00:00,  1.01batch/s, dice_score=0.906, f1_score=0.906, loss=0.0517, mean_iou=0.839] \n"
     ]
    },
    {
     "name": "stdout",
     "output_type": "stream",
     "text": [
      "Validation => Mean Loss: 0.0644 | Mean IoU: 0.8082 | Mean Dice: 0.8821 | Mean F1 Score: 0.8821\n",
      "\n",
      "\n"
     ]
    },
    {
     "name": "stderr",
     "output_type": "stream",
     "text": [
      "Epoch 77/100: 100%|██████████| 1250/1250 [15:13<00:00,  1.37batch/s, loss=0.0371]\n",
      "Validation: 100%|██████████| 175/175 [02:58<00:00,  1.02s/batch, dice_score=0.905, f1_score=0.905, loss=0.0525, mean_iou=0.837] \n"
     ]
    },
    {
     "name": "stdout",
     "output_type": "stream",
     "text": [
      "Validation => Mean Loss: 0.0654 | Mean IoU: 0.8084 | Mean Dice: 0.8821 | Mean F1 Score: 0.8821\n",
      "\n",
      "\n"
     ]
    },
    {
     "name": "stderr",
     "output_type": "stream",
     "text": [
      "Epoch 78/100: 100%|██████████| 1250/1250 [15:18<00:00,  1.36batch/s, loss=0.0388]\n",
      "Validation: 100%|██████████| 175/175 [02:58<00:00,  1.02s/batch, dice_score=0.905, f1_score=0.905, loss=0.0523, mean_iou=0.838] \n"
     ]
    },
    {
     "name": "stdout",
     "output_type": "stream",
     "text": [
      "Validation => Mean Loss: 0.0653 | Mean IoU: 0.8090 | Mean Dice: 0.8827 | Mean F1 Score: 0.8827\n",
      "\n",
      "\n"
     ]
    },
    {
     "name": "stderr",
     "output_type": "stream",
     "text": [
      "Epoch 79/100: 100%|██████████| 1250/1250 [14:59<00:00,  1.39batch/s, loss=0.0288]\n",
      "Validation: 100%|██████████| 175/175 [02:49<00:00,  1.03batch/s, dice_score=0.904, f1_score=0.904, loss=0.0549, mean_iou=0.836] \n"
     ]
    },
    {
     "name": "stdout",
     "output_type": "stream",
     "text": [
      "Validation => Mean Loss: 0.0657 | Mean IoU: 0.8082 | Mean Dice: 0.8820 | Mean F1 Score: 0.8820\n",
      "\n",
      "\n"
     ]
    },
    {
     "name": "stderr",
     "output_type": "stream",
     "text": [
      "Epoch 80/100: 100%|██████████| 1250/1250 [14:22<00:00,  1.45batch/s, loss=0.0407]\n",
      "Validation: 100%|██████████| 175/175 [02:49<00:00,  1.03batch/s, dice_score=0.904, f1_score=0.904, loss=0.0548, mean_iou=0.836]\n"
     ]
    },
    {
     "name": "stdout",
     "output_type": "stream",
     "text": [
      "Validation => Mean Loss: 0.0659 | Mean IoU: 0.8084 | Mean Dice: 0.8822 | Mean F1 Score: 0.8822\n",
      "\n",
      "\n"
     ]
    },
    {
     "name": "stderr",
     "output_type": "stream",
     "text": [
      "Epoch 81/100: 100%|██████████| 1250/1250 [14:26<00:00,  1.44batch/s, loss=0.0229]\n",
      "Validation: 100%|██████████| 175/175 [02:49<00:00,  1.03batch/s, dice_score=0.905, f1_score=0.905, loss=0.0543, mean_iou=0.838]\n"
     ]
    },
    {
     "name": "stdout",
     "output_type": "stream",
     "text": [
      "Validation => Mean Loss: 0.0659 | Mean IoU: 0.8092 | Mean Dice: 0.8828 | Mean F1 Score: 0.8828\n",
      "\n",
      "\n"
     ]
    },
    {
     "name": "stderr",
     "output_type": "stream",
     "text": [
      "Epoch 82/100: 100%|██████████| 1250/1250 [14:23<00:00,  1.45batch/s, loss=0.0191]\n",
      "Validation: 100%|██████████| 175/175 [02:50<00:00,  1.03batch/s, dice_score=0.906, f1_score=0.906, loss=0.0536, mean_iou=0.839] \n"
     ]
    },
    {
     "name": "stdout",
     "output_type": "stream",
     "text": [
      "Validation => Mean Loss: 0.0656 | Mean IoU: 0.8095 | Mean Dice: 0.8830 | Mean F1 Score: 0.8830\n",
      "Validation IoU improved from 0.8094 to 0.8095\n",
      "\n",
      "\n"
     ]
    },
    {
     "name": "stderr",
     "output_type": "stream",
     "text": [
      "Epoch 83/100: 100%|██████████| 1250/1250 [14:09<00:00,  1.47batch/s, loss=0.0389]\n",
      "Validation: 100%|██████████| 175/175 [02:49<00:00,  1.03batch/s, dice_score=0.906, f1_score=0.906, loss=0.0532, mean_iou=0.839] \n"
     ]
    },
    {
     "name": "stdout",
     "output_type": "stream",
     "text": [
      "Validation => Mean Loss: 0.0660 | Mean IoU: 0.8088 | Mean Dice: 0.8824 | Mean F1 Score: 0.8824\n",
      "\n",
      "\n"
     ]
    },
    {
     "name": "stderr",
     "output_type": "stream",
     "text": [
      "Epoch 84/100: 100%|██████████| 1250/1250 [14:00<00:00,  1.49batch/s, loss=0.0123]\n",
      "Validation: 100%|██████████| 175/175 [02:50<00:00,  1.03batch/s, dice_score=0.905, f1_score=0.905, loss=0.0534, mean_iou=0.838]\n"
     ]
    },
    {
     "name": "stdout",
     "output_type": "stream",
     "text": [
      "Validation => Mean Loss: 0.0663 | Mean IoU: 0.8076 | Mean Dice: 0.8815 | Mean F1 Score: 0.8815\n",
      "\n",
      "\n"
     ]
    },
    {
     "name": "stderr",
     "output_type": "stream",
     "text": [
      "Epoch 85/100: 100%|██████████| 1250/1250 [13:18<00:00,  1.57batch/s, loss=0.0426] \n",
      "Validation: 100%|██████████| 175/175 [02:25<00:00,  1.20batch/s, dice_score=0.904, f1_score=0.904, loss=0.0551, mean_iou=0.836] \n"
     ]
    },
    {
     "name": "stdout",
     "output_type": "stream",
     "text": [
      "Validation => Mean Loss: 0.0660 | Mean IoU: 0.8090 | Mean Dice: 0.8827 | Mean F1 Score: 0.8827\n",
      "\n",
      "\n"
     ]
    },
    {
     "name": "stderr",
     "output_type": "stream",
     "text": [
      "Epoch 86/100: 100%|██████████| 1250/1250 [11:59<00:00,  1.74batch/s, loss=0.0211]\n",
      "Validation: 100%|██████████| 175/175 [02:24<00:00,  1.21batch/s, dice_score=0.907, f1_score=0.907, loss=0.0525, mean_iou=0.84]  \n"
     ]
    },
    {
     "name": "stdout",
     "output_type": "stream",
     "text": [
      "Validation => Mean Loss: 0.0664 | Mean IoU: 0.8099 | Mean Dice: 0.8834 | Mean F1 Score: 0.8834\n",
      "Validation IoU improved from 0.8095 to 0.8099\n",
      "\n",
      "\n"
     ]
    },
    {
     "name": "stderr",
     "output_type": "stream",
     "text": [
      "Epoch 87/100: 100%|██████████| 1250/1250 [13:12<00:00,  1.58batch/s, loss=0.0307]\n",
      "Validation: 100%|██████████| 175/175 [02:49<00:00,  1.03batch/s, dice_score=0.907, f1_score=0.907, loss=0.0526, mean_iou=0.84] \n"
     ]
    },
    {
     "name": "stdout",
     "output_type": "stream",
     "text": [
      "Validation => Mean Loss: 0.0661 | Mean IoU: 0.8097 | Mean Dice: 0.8832 | Mean F1 Score: 0.8832\n",
      "\n",
      "\n"
     ]
    },
    {
     "name": "stderr",
     "output_type": "stream",
     "text": [
      "Epoch 88/100: 100%|██████████| 1250/1250 [13:56<00:00,  1.49batch/s, loss=0.0186] \n",
      "Validation: 100%|██████████| 175/175 [02:49<00:00,  1.03batch/s, dice_score=0.906, f1_score=0.906, loss=0.0541, mean_iou=0.838] \n"
     ]
    },
    {
     "name": "stdout",
     "output_type": "stream",
     "text": [
      "Validation => Mean Loss: 0.0668 | Mean IoU: 0.8090 | Mean Dice: 0.8827 | Mean F1 Score: 0.8827\n",
      "\n",
      "\n"
     ]
    },
    {
     "name": "stderr",
     "output_type": "stream",
     "text": [
      "Epoch 89/100: 100%|██████████| 1250/1250 [14:05<00:00,  1.48batch/s, loss=0.0328]\n",
      "Validation: 100%|██████████| 175/175 [02:52<00:00,  1.02batch/s, dice_score=0.907, f1_score=0.907, loss=0.0519, mean_iou=0.84] \n"
     ]
    },
    {
     "name": "stdout",
     "output_type": "stream",
     "text": [
      "Validation => Mean Loss: 0.0667 | Mean IoU: 0.8085 | Mean Dice: 0.8823 | Mean F1 Score: 0.8823\n",
      "\n",
      "\n"
     ]
    },
    {
     "name": "stderr",
     "output_type": "stream",
     "text": [
      "Epoch 90/100: 100%|██████████| 1250/1250 [12:36<00:00,  1.65batch/s, loss=0.0415]\n",
      "Validation: 100%|██████████| 175/175 [02:26<00:00,  1.20batch/s, dice_score=0.906, f1_score=0.906, loss=0.0531, mean_iou=0.839] \n"
     ]
    },
    {
     "name": "stdout",
     "output_type": "stream",
     "text": [
      "Validation => Mean Loss: 0.0669 | Mean IoU: 0.8090 | Mean Dice: 0.8827 | Mean F1 Score: 0.8827\n",
      "\n",
      "\n"
     ]
    },
    {
     "name": "stderr",
     "output_type": "stream",
     "text": [
      "Epoch 91/100: 100%|██████████| 1250/1250 [14:08<00:00,  1.47batch/s, loss=0.0216]\n",
      "Validation: 100%|██████████| 175/175 [02:51<00:00,  1.02batch/s, dice_score=0.903, f1_score=0.903, loss=0.0557, mean_iou=0.835] \n"
     ]
    },
    {
     "name": "stdout",
     "output_type": "stream",
     "text": [
      "Validation => Mean Loss: 0.0666 | Mean IoU: 0.8087 | Mean Dice: 0.8825 | Mean F1 Score: 0.8825\n",
      "\n",
      "\n"
     ]
    },
    {
     "name": "stderr",
     "output_type": "stream",
     "text": [
      "Epoch 92/100: 100%|██████████| 1250/1250 [15:02<00:00,  1.38batch/s, loss=0.0286]\n",
      "Validation: 100%|██████████| 175/175 [02:59<00:00,  1.03s/batch, dice_score=0.905, f1_score=0.905, loss=0.0536, mean_iou=0.838] \n"
     ]
    },
    {
     "name": "stdout",
     "output_type": "stream",
     "text": [
      "Validation => Mean Loss: 0.0666 | Mean IoU: 0.8095 | Mean Dice: 0.8831 | Mean F1 Score: 0.8831\n",
      "\n",
      "\n"
     ]
    },
    {
     "name": "stderr",
     "output_type": "stream",
     "text": [
      "Epoch 93/100: 100%|██████████| 1250/1250 [15:24<00:00,  1.35batch/s, loss=0.0217] \n",
      "Validation: 100%|██████████| 175/175 [02:51<00:00,  1.02batch/s, dice_score=0.906, f1_score=0.906, loss=0.0536, mean_iou=0.838]\n"
     ]
    },
    {
     "name": "stdout",
     "output_type": "stream",
     "text": [
      "Validation => Mean Loss: 0.0665 | Mean IoU: 0.8095 | Mean Dice: 0.8831 | Mean F1 Score: 0.8831\n",
      "\n",
      "\n"
     ]
    },
    {
     "name": "stderr",
     "output_type": "stream",
     "text": [
      "Epoch 94/100: 100%|██████████| 1250/1250 [14:52<00:00,  1.40batch/s, loss=0.0368]\n",
      "Validation: 100%|██████████| 175/175 [03:00<00:00,  1.03s/batch, dice_score=0.906, f1_score=0.906, loss=0.0542, mean_iou=0.839] \n"
     ]
    },
    {
     "name": "stdout",
     "output_type": "stream",
     "text": [
      "Validation => Mean Loss: 0.0671 | Mean IoU: 0.8090 | Mean Dice: 0.8827 | Mean F1 Score: 0.8827\n",
      "\n",
      "\n"
     ]
    },
    {
     "name": "stderr",
     "output_type": "stream",
     "text": [
      "Epoch 95/100: 100%|██████████| 1250/1250 [14:40<00:00,  1.42batch/s, loss=0.0254]\n",
      "Validation: 100%|██████████| 175/175 [02:50<00:00,  1.03batch/s, dice_score=0.905, f1_score=0.905, loss=0.0543, mean_iou=0.838]\n"
     ]
    },
    {
     "name": "stdout",
     "output_type": "stream",
     "text": [
      "Validation => Mean Loss: 0.0671 | Mean IoU: 0.8095 | Mean Dice: 0.8831 | Mean F1 Score: 0.8831\n",
      "\n",
      "\n"
     ]
    },
    {
     "name": "stderr",
     "output_type": "stream",
     "text": [
      "Epoch 96/100: 100%|██████████| 1250/1250 [14:07<00:00,  1.48batch/s, loss=0.0301]\n",
      "Validation: 100%|██████████| 175/175 [02:51<00:00,  1.02batch/s, dice_score=0.905, f1_score=0.905, loss=0.0548, mean_iou=0.837] \n"
     ]
    },
    {
     "name": "stdout",
     "output_type": "stream",
     "text": [
      "Validation => Mean Loss: 0.0671 | Mean IoU: 0.8090 | Mean Dice: 0.8827 | Mean F1 Score: 0.8827\n",
      "\n",
      "\n"
     ]
    },
    {
     "name": "stderr",
     "output_type": "stream",
     "text": [
      "Epoch 97/100: 100%|██████████| 1250/1250 [14:15<00:00,  1.46batch/s, loss=0.0364]\n",
      "Validation: 100%|██████████| 175/175 [02:51<00:00,  1.02batch/s, dice_score=0.906, f1_score=0.906, loss=0.0539, mean_iou=0.838] \n"
     ]
    },
    {
     "name": "stdout",
     "output_type": "stream",
     "text": [
      "Validation => Mean Loss: 0.0672 | Mean IoU: 0.8089 | Mean Dice: 0.8826 | Mean F1 Score: 0.8826\n",
      "\n",
      "\n"
     ]
    },
    {
     "name": "stderr",
     "output_type": "stream",
     "text": [
      "Epoch 98/100: 100%|██████████| 1250/1250 [14:30<00:00,  1.44batch/s, loss=0.0356]\n",
      "Validation: 100%|██████████| 175/175 [02:50<00:00,  1.03batch/s, dice_score=0.905, f1_score=0.905, loss=0.0545, mean_iou=0.837] \n"
     ]
    },
    {
     "name": "stdout",
     "output_type": "stream",
     "text": [
      "Validation => Mean Loss: 0.0669 | Mean IoU: 0.8093 | Mean Dice: 0.8829 | Mean F1 Score: 0.8829\n",
      "\n",
      "\n"
     ]
    },
    {
     "name": "stderr",
     "output_type": "stream",
     "text": [
      "Epoch 99/100: 100%|██████████| 1250/1250 [14:26<00:00,  1.44batch/s, loss=0.0208]\n",
      "Validation: 100%|██████████| 175/175 [02:51<00:00,  1.02batch/s, dice_score=0.905, f1_score=0.905, loss=0.0545, mean_iou=0.837]\n"
     ]
    },
    {
     "name": "stdout",
     "output_type": "stream",
     "text": [
      "Validation => Mean Loss: 0.0670 | Mean IoU: 0.8093 | Mean Dice: 0.8829 | Mean F1 Score: 0.8829\n",
      "\n",
      "\n"
     ]
    },
    {
     "name": "stderr",
     "output_type": "stream",
     "text": [
      "Epoch 100/100: 100%|██████████| 1250/1250 [14:12<00:00,  1.47batch/s, loss=0.0168]\n",
      "Validation: 100%|██████████| 175/175 [02:51<00:00,  1.02batch/s, dice_score=0.906, f1_score=0.906, loss=0.0534, mean_iou=0.839] "
     ]
    },
    {
     "name": "stdout",
     "output_type": "stream",
     "text": [
      "Validation => Mean Loss: 0.0672 | Mean IoU: 0.8090 | Mean Dice: 0.8827 | Mean F1 Score: 0.8827\n",
      "Loaded the best model weights!\n"
     ]
    },
    {
     "name": "stderr",
     "output_type": "stream",
     "text": [
      "\n"
     ]
    }
   ],
   "source": [
    "# Define the optimizer\n",
    "optimizer = AdamW(model.parameters(), lr=5e-5)\n",
    "\n",
    "# Define the learning rate scheduler\n",
    "num_epochs = 100\n",
    "num_training_steps = num_epochs * len(train_loader)\n",
    "lr_scheduler = get_scheduler(\n",
    "    \"linear\",\n",
    "    optimizer=optimizer,\n",
    "    num_warmup_steps=2,\n",
    "    num_training_steps=num_training_steps\n",
    ")\n",
    "\n",
    "# Lists to store metrics for plotting\n",
    "train_losses = []\n",
    "val_losses = []\n",
    "mean_ious = []\n",
    "mean_dices = []\n",
    "mean_f1 = []\n",
    "\n",
    "# Placeholder for best mean IoU and best model weights\n",
    "best_iou = 0.0\n",
    "best_model_wts = copy.deepcopy(model.state_dict())\n",
    "\n",
    "for epoch in range(num_epochs):\n",
    "    model.train()\n",
    "    print(\"\\n\")\n",
    "    torch.cuda.empty_cache()\n",
    "    torch.cuda.memory_summary(device=None, abbreviated=False)\n",
    "\n",
    "    total_loss_train = 0\n",
    "    num_batches = 0\n",
    "\n",
    "\n",
    "    train_iterator = tqdm(train_loader, desc=f\"Epoch {epoch + 1}/{num_epochs}\", unit=\"batch\")\n",
    "    for batch in train_iterator:\n",
    "        images, masks = batch\n",
    "        images = images.to(device)\n",
    "        masks = masks.to(device).long()  \n",
    "\n",
    "        # Remove the channel dimension from the masks tensor\n",
    "        masks = masks.squeeze(1) \n",
    "        optimizer.zero_grad()\n",
    "\n",
    "        # Pass inputs to the model\n",
    "        outputs = model(images)\n",
    "        \n",
    "        softmax = nn.functional.log_softmax(outputs, dim=1)\n",
    "\n",
    "        # Ensure the masks have the correct shape\n",
    "        masks = masks.squeeze(1)  # Squeeze extra dimensions if present\n",
    "\n",
    "        loss = nn.functional.nll_loss(softmax, masks.long())\n",
    "\n",
    "        total_loss_train += loss.item()\n",
    "        loss.backward()\n",
    "\n",
    "        optimizer.step()\n",
    "        lr_scheduler.step()\n",
    "        # outputs = F.interpolate(outputs[\"logits\"], size=masks.shape[-2:], mode=\"bilinear\", align_corners=False)\n",
    "\n",
    "        num_batches += 1\n",
    "        \n",
    "        train_iterator.set_postfix(loss=loss.item())\n",
    "    train_loss = total_loss_train / num_batches\n",
    "    train_losses.append(train_loss)\n",
    "    \n",
    "    # Evaluation loop for each epoch\n",
    "    model.eval()\n",
    "    total_loss = 0\n",
    "    total_iou = 0\n",
    "    total_dice = 0\n",
    "    total_f1 = 0\n",
    "    num_batches = 0\n",
    "\n",
    "    with torch.no_grad():\n",
    "        valid_iterator = tqdm(valid_loader, desc=\"Validation\", unit=\"batch\")\n",
    "        for batch in valid_iterator:\n",
    "            images, masks = batch\n",
    "            images = images.to(device)\n",
    "            masks = masks.to(device).long()\n",
    "\n",
    "            # Remove the channel dimension from the masks tensor\n",
    "            masks = masks.squeeze(1)\n",
    "\n",
    "            # Pass inputs to the model\n",
    "            outputs = model(images)\n",
    "\n",
    "            softmax = nn.functional.log_softmax(outputs, dim=1)\n",
    "\n",
    "            # Ensure the masks have the correct shape\n",
    "            masks = masks.squeeze(1)  # Squeeze extra dimensions if present\n",
    "\n",
    "            # Calculate the CrossEntropyLoss\n",
    "            loss = nn.functional.nll_loss(softmax, masks.long())\n",
    "\n",
    "            total_loss += loss.item()\n",
    "\n",
    "            # Get the logits from the model and apply argmax to get the predictions\n",
    "            # outputs = F.interpolate(outputs[\"logits\"], size=masks.shape[-2:], mode=\"bilinear\", align_corners=False)\n",
    "            preds = torch.argmax(outputs, dim=1)\n",
    "            preds = torch.unsqueeze(preds, dim=1)\n",
    "\n",
    "            preds = preds.view(-1)\n",
    "            masks = masks.view(-1)\n",
    "\n",
    "            # Compute IoU and Dice Score\n",
    "            iou = mean_iou(preds, masks, 2)\n",
    "            dice = dice_score(preds, masks, 2)\n",
    "            f1 = F1_score(preds, masks, 2)\n",
    "            total_iou += iou\n",
    "            total_dice += dice\n",
    "            total_f1 += f1\n",
    "            num_batches += 1\n",
    "\n",
    "            valid_iterator.set_postfix(loss=loss.item(), mean_iou=iou, dice_score=dice, f1_score=f1)\n",
    "            \n",
    "\n",
    "    epoch_loss = total_loss / num_batches\n",
    "    epoch_iou = total_iou / num_batches\n",
    "    epoch_dice = total_dice / num_batches\n",
    "    epoch_f1 = total_f1 / num_batches\n",
    "    \n",
    "    val_losses.append(epoch_loss)\n",
    "    mean_ious.append(epoch_iou)\n",
    "    mean_dices.append(epoch_dice)\n",
    "    mean_f1.append(epoch_f1)\n",
    "\n",
    "    print(f\"Validation => Mean Loss: {epoch_loss:.4f} | Mean IoU: {epoch_iou:.4f} | Mean Dice: {epoch_dice:.4f} | Mean F1 Score: {epoch_f1:.4f}\")\n",
    "\n",
    "\n",
    "    # Check for improvement and save the best model weights based on IoU\n",
    "    if epoch_iou > best_iou:\n",
    "        print(f\"Validation IoU improved from {best_iou:.4f} to {epoch_iou:.4f}\")\n",
    "        best_iou = epoch_iou\n",
    "        best_model_wts = copy.deepcopy(model.state_dict())\n",
    "        torch.save(best_model_wts, model_name)\n",
    "\n",
    "# After all epochs, load the best model weights - optional\n",
    "model.load_state_dict(torch.load(model_name))\n",
    "print(\"Loaded the best model weights!\")"
   ]
  },
  {
   "cell_type": "code",
   "execution_count": 12,
   "id": "c14e3bd7",
   "metadata": {},
   "outputs": [
    {
     "data": {
      "text/plain": [
       "VisionTransformerForSegmentation(\n",
       "  (layers): Sequential(\n",
       "    (0): BatchNorm2d(3, eps=1e-05, momentum=0.1, affine=True, track_running_stats=True)\n",
       "    (1): VisionTransformerInput(\n",
       "      (i2p): ImageToPatches(\n",
       "        (unfold): Unfold(kernel_size=16, dilation=1, padding=0, stride=16)\n",
       "      )\n",
       "      (pe): PatchEmbedding(\n",
       "        (embed_layer): Linear(in_features=768, out_features=256, bias=True)\n",
       "      )\n",
       "    )\n",
       "    (2): Sequential(\n",
       "      (0): SelfAttentionEncoderBlock(\n",
       "        (ln1): LayerNorm((256,), eps=1e-05, elementwise_affine=True)\n",
       "        (mha): MultiheadAttention(\n",
       "          (out_proj): NonDynamicallyQuantizableLinear(in_features=256, out_features=256, bias=True)\n",
       "        )\n",
       "        (ln2): LayerNorm((256,), eps=1e-05, elementwise_affine=True)\n",
       "        (mlp): MultiLayerPerceptron(\n",
       "          (layers): Sequential(\n",
       "            (0): Linear(in_features=256, out_features=1024, bias=True)\n",
       "            (1): GELU(approximate='none')\n",
       "            (2): Linear(in_features=1024, out_features=256, bias=True)\n",
       "            (3): Dropout(p=0.2, inplace=False)\n",
       "          )\n",
       "        )\n",
       "      )\n",
       "      (1): SelfAttentionEncoderBlock(\n",
       "        (ln1): LayerNorm((256,), eps=1e-05, elementwise_affine=True)\n",
       "        (mha): MultiheadAttention(\n",
       "          (out_proj): NonDynamicallyQuantizableLinear(in_features=256, out_features=256, bias=True)\n",
       "        )\n",
       "        (ln2): LayerNorm((256,), eps=1e-05, elementwise_affine=True)\n",
       "        (mlp): MultiLayerPerceptron(\n",
       "          (layers): Sequential(\n",
       "            (0): Linear(in_features=256, out_features=1024, bias=True)\n",
       "            (1): GELU(approximate='none')\n",
       "            (2): Linear(in_features=1024, out_features=256, bias=True)\n",
       "            (3): Dropout(p=0.2, inplace=False)\n",
       "          )\n",
       "        )\n",
       "      )\n",
       "      (2): SelfAttentionEncoderBlock(\n",
       "        (ln1): LayerNorm((256,), eps=1e-05, elementwise_affine=True)\n",
       "        (mha): MultiheadAttention(\n",
       "          (out_proj): NonDynamicallyQuantizableLinear(in_features=256, out_features=256, bias=True)\n",
       "        )\n",
       "        (ln2): LayerNorm((256,), eps=1e-05, elementwise_affine=True)\n",
       "        (mlp): MultiLayerPerceptron(\n",
       "          (layers): Sequential(\n",
       "            (0): Linear(in_features=256, out_features=1024, bias=True)\n",
       "            (1): GELU(approximate='none')\n",
       "            (2): Linear(in_features=1024, out_features=256, bias=True)\n",
       "            (3): Dropout(p=0.2, inplace=False)\n",
       "          )\n",
       "        )\n",
       "      )\n",
       "      (3): SelfAttentionEncoderBlock(\n",
       "        (ln1): LayerNorm((256,), eps=1e-05, elementwise_affine=True)\n",
       "        (mha): MultiheadAttention(\n",
       "          (out_proj): NonDynamicallyQuantizableLinear(in_features=256, out_features=256, bias=True)\n",
       "        )\n",
       "        (ln2): LayerNorm((256,), eps=1e-05, elementwise_affine=True)\n",
       "        (mlp): MultiLayerPerceptron(\n",
       "          (layers): Sequential(\n",
       "            (0): Linear(in_features=256, out_features=1024, bias=True)\n",
       "            (1): GELU(approximate='none')\n",
       "            (2): Linear(in_features=1024, out_features=256, bias=True)\n",
       "            (3): Dropout(p=0.2, inplace=False)\n",
       "          )\n",
       "        )\n",
       "      )\n",
       "      (4): SelfAttentionEncoderBlock(\n",
       "        (ln1): LayerNorm((256,), eps=1e-05, elementwise_affine=True)\n",
       "        (mha): MultiheadAttention(\n",
       "          (out_proj): NonDynamicallyQuantizableLinear(in_features=256, out_features=256, bias=True)\n",
       "        )\n",
       "        (ln2): LayerNorm((256,), eps=1e-05, elementwise_affine=True)\n",
       "        (mlp): MultiLayerPerceptron(\n",
       "          (layers): Sequential(\n",
       "            (0): Linear(in_features=256, out_features=1024, bias=True)\n",
       "            (1): GELU(approximate='none')\n",
       "            (2): Linear(in_features=1024, out_features=256, bias=True)\n",
       "            (3): Dropout(p=0.2, inplace=False)\n",
       "          )\n",
       "        )\n",
       "      )\n",
       "      (5): SelfAttentionEncoderBlock(\n",
       "        (ln1): LayerNorm((256,), eps=1e-05, elementwise_affine=True)\n",
       "        (mha): MultiheadAttention(\n",
       "          (out_proj): NonDynamicallyQuantizableLinear(in_features=256, out_features=256, bias=True)\n",
       "        )\n",
       "        (ln2): LayerNorm((256,), eps=1e-05, elementwise_affine=True)\n",
       "        (mlp): MultiLayerPerceptron(\n",
       "          (layers): Sequential(\n",
       "            (0): Linear(in_features=256, out_features=1024, bias=True)\n",
       "            (1): GELU(approximate='none')\n",
       "            (2): Linear(in_features=1024, out_features=256, bias=True)\n",
       "            (3): Dropout(p=0.2, inplace=False)\n",
       "          )\n",
       "        )\n",
       "      )\n",
       "      (6): SelfAttentionEncoderBlock(\n",
       "        (ln1): LayerNorm((256,), eps=1e-05, elementwise_affine=True)\n",
       "        (mha): MultiheadAttention(\n",
       "          (out_proj): NonDynamicallyQuantizableLinear(in_features=256, out_features=256, bias=True)\n",
       "        )\n",
       "        (ln2): LayerNorm((256,), eps=1e-05, elementwise_affine=True)\n",
       "        (mlp): MultiLayerPerceptron(\n",
       "          (layers): Sequential(\n",
       "            (0): Linear(in_features=256, out_features=1024, bias=True)\n",
       "            (1): GELU(approximate='none')\n",
       "            (2): Linear(in_features=1024, out_features=256, bias=True)\n",
       "            (3): Dropout(p=0.2, inplace=False)\n",
       "          )\n",
       "        )\n",
       "      )\n",
       "      (7): SelfAttentionEncoderBlock(\n",
       "        (ln1): LayerNorm((256,), eps=1e-05, elementwise_affine=True)\n",
       "        (mha): MultiheadAttention(\n",
       "          (out_proj): NonDynamicallyQuantizableLinear(in_features=256, out_features=256, bias=True)\n",
       "        )\n",
       "        (ln2): LayerNorm((256,), eps=1e-05, elementwise_affine=True)\n",
       "        (mlp): MultiLayerPerceptron(\n",
       "          (layers): Sequential(\n",
       "            (0): Linear(in_features=256, out_features=1024, bias=True)\n",
       "            (1): GELU(approximate='none')\n",
       "            (2): Linear(in_features=1024, out_features=256, bias=True)\n",
       "            (3): Dropout(p=0.2, inplace=False)\n",
       "          )\n",
       "        )\n",
       "      )\n",
       "      (8): SelfAttentionEncoderBlock(\n",
       "        (ln1): LayerNorm((256,), eps=1e-05, elementwise_affine=True)\n",
       "        (mha): MultiheadAttention(\n",
       "          (out_proj): NonDynamicallyQuantizableLinear(in_features=256, out_features=256, bias=True)\n",
       "        )\n",
       "        (ln2): LayerNorm((256,), eps=1e-05, elementwise_affine=True)\n",
       "        (mlp): MultiLayerPerceptron(\n",
       "          (layers): Sequential(\n",
       "            (0): Linear(in_features=256, out_features=1024, bias=True)\n",
       "            (1): GELU(approximate='none')\n",
       "            (2): Linear(in_features=1024, out_features=256, bias=True)\n",
       "            (3): Dropout(p=0.2, inplace=False)\n",
       "          )\n",
       "        )\n",
       "      )\n",
       "      (9): SelfAttentionEncoderBlock(\n",
       "        (ln1): LayerNorm((256,), eps=1e-05, elementwise_affine=True)\n",
       "        (mha): MultiheadAttention(\n",
       "          (out_proj): NonDynamicallyQuantizableLinear(in_features=256, out_features=256, bias=True)\n",
       "        )\n",
       "        (ln2): LayerNorm((256,), eps=1e-05, elementwise_affine=True)\n",
       "        (mlp): MultiLayerPerceptron(\n",
       "          (layers): Sequential(\n",
       "            (0): Linear(in_features=256, out_features=1024, bias=True)\n",
       "            (1): GELU(approximate='none')\n",
       "            (2): Linear(in_features=1024, out_features=256, bias=True)\n",
       "            (3): Dropout(p=0.2, inplace=False)\n",
       "          )\n",
       "        )\n",
       "      )\n",
       "      (10): SelfAttentionEncoderBlock(\n",
       "        (ln1): LayerNorm((256,), eps=1e-05, elementwise_affine=True)\n",
       "        (mha): MultiheadAttention(\n",
       "          (out_proj): NonDynamicallyQuantizableLinear(in_features=256, out_features=256, bias=True)\n",
       "        )\n",
       "        (ln2): LayerNorm((256,), eps=1e-05, elementwise_affine=True)\n",
       "        (mlp): MultiLayerPerceptron(\n",
       "          (layers): Sequential(\n",
       "            (0): Linear(in_features=256, out_features=1024, bias=True)\n",
       "            (1): GELU(approximate='none')\n",
       "            (2): Linear(in_features=1024, out_features=256, bias=True)\n",
       "            (3): Dropout(p=0.2, inplace=False)\n",
       "          )\n",
       "        )\n",
       "      )\n",
       "      (11): SelfAttentionEncoderBlock(\n",
       "        (ln1): LayerNorm((256,), eps=1e-05, elementwise_affine=True)\n",
       "        (mha): MultiheadAttention(\n",
       "          (out_proj): NonDynamicallyQuantizableLinear(in_features=256, out_features=256, bias=True)\n",
       "        )\n",
       "        (ln2): LayerNorm((256,), eps=1e-05, elementwise_affine=True)\n",
       "        (mlp): MultiLayerPerceptron(\n",
       "          (layers): Sequential(\n",
       "            (0): Linear(in_features=256, out_features=1024, bias=True)\n",
       "            (1): GELU(approximate='none')\n",
       "            (2): Linear(in_features=1024, out_features=256, bias=True)\n",
       "            (3): Dropout(p=0.2, inplace=False)\n",
       "          )\n",
       "        )\n",
       "      )\n",
       "    )\n",
       "    (3): OutputProjection(\n",
       "      (projection): Linear(in_features=256, out_features=768, bias=True)\n",
       "      (fold): Fold(output_size=(256, 256), kernel_size=16, dilation=1, padding=0, stride=16)\n",
       "    )\n",
       "  )\n",
       ")"
      ]
     },
     "execution_count": 12,
     "metadata": {},
     "output_type": "execute_result"
    }
   ],
   "source": [
    "# model_name = \"unet-6v_95.pt\" \n",
    "model.load_state_dict(torch.load(model_name, map_location=torch.device(\"cpu\")))\n",
    "model.to(device)\n",
    "model.eval()"
   ]
  },
  {
   "cell_type": "code",
   "execution_count": 13,
   "id": "04b4bb9a",
   "metadata": {},
   "outputs": [
    {
     "data": {
      "text/plain": [
       "Text(0.5, 0, 'epoch')"
      ]
     },
     "execution_count": 13,
     "metadata": {},
     "output_type": "execute_result"
    },
    {
     "data": {
      "image/png": "[encoded data removed]",
      "text/plain": [
       "<Figure size 1000x700 with 1 Axes>"
      ]
     },
     "metadata": {},
     "output_type": "display_data"
    }
   ],
   "source": [
    "plt.figure(figsize=(10, 7))\n",
    "\n",
    "\n",
    "# Plotting training and validation metrics\n",
    "plt.plot(range(len(train_losses)), train_losses, \"b\", label=\"train loss\")\n",
    "plt.plot(range(len(val_losses)), val_losses, \"r\", label=\"val loss\")\n",
    "plt.plot(range(len(mean_f1)), mean_f1, \"violet\", label=\"val F1 Score\")\n",
    "plt.plot(range(len(mean_dices)), mean_dices, \"g\", label=\"val dice\")\n",
    "plt.plot(range(len(mean_ious)), mean_ious, \"orange\", label=\"val iou\")\n",
    "\n",
    "\n",
    "plt.legend()  # Adding legend\n",
    "plt.xlabel(\"epoch\")  # Labeling x-axis with 'epoch'"
   ]
  },
  {
   "cell_type": "markdown",
   "id": "025ec681",
   "metadata": {},
   "source": [
    "## Validation"
   ]
  },
  {
   "cell_type": "code",
   "execution_count": 14,
   "id": "be0fd65b",
   "metadata": {},
   "outputs": [
    {
     "name": "stderr",
     "output_type": "stream",
     "text": [
      "Validation: 100%|██████████| 175/175 [02:24<00:00,  1.21batch/s, dice_score=0.907, f1_score=0.907, loss=0.0525, mean_iou=0.84]  "
     ]
    },
    {
     "name": "stdout",
     "output_type": "stream",
     "text": [
      "Validation => Mean Loss: 0.0664 | Mean IoU: 0.8099 | Mean Dice: 0.8834 | Mean F1 Score: 0.8834\n"
     ]
    },
    {
     "name": "stderr",
     "output_type": "stream",
     "text": [
      "\n"
     ]
    }
   ],
   "source": [
    "\n",
    "# fValidation\n",
    "# Evaluation loop for each epoch\n",
    "model.eval()\n",
    "total_loss = 0\n",
    "total_iou = 0\n",
    "total_dice = 0\n",
    "total_f1 = 0\n",
    "num_batches = 0\n",
    "\n",
    "\n",
    "with torch.no_grad():\n",
    "    valid_iterator = tqdm(valid_loader, desc=\"Validation\", unit=\"batch\")\n",
    "    for batch in valid_iterator:\n",
    "        images, masks = batch\n",
    "        images = images.to(device)\n",
    "        masks = masks.to(device).long()\n",
    "\n",
    "        # Remove the channel dimension from the masks tensor\n",
    "        masks = masks.squeeze(1)\n",
    "\n",
    "        # Pass inputs to the model\n",
    "        outputs = model(images)\n",
    "\n",
    "        softmax = nn.functional.log_softmax(outputs, dim=1)\n",
    "\n",
    "        # Ensure the masks have the correct shape\n",
    "        masks = masks.squeeze(1)  # Squeeze extra dimensions if present\n",
    "\n",
    "        # Calculate the CrossEntropyLoss\n",
    "        loss = nn.functional.nll_loss(softmax, masks.long())\n",
    "\n",
    "        total_loss += loss.item()\n",
    "\n",
    "        # Get the logits from the model and apply argmax to get the predictions\n",
    "        # outputs = F.interpolate(outputs[\"logits\"], size=masks.shape[-2:], mode=\"bilinear\", align_corners=False)\n",
    "        preds = torch.argmax(outputs, dim=1)\n",
    "        preds = torch.unsqueeze(preds, dim=1)\n",
    "\n",
    "        preds = preds.view(-1)\n",
    "        masks = masks.view(-1)\n",
    "\n",
    "        # Compute IoU and Dice Score\n",
    "        iou = mean_iou(preds, masks, 2)\n",
    "        dice = dice_score(preds, masks, 2)\n",
    "        f1 = F1_score(preds, masks, 2)\n",
    "        total_iou += iou\n",
    "        total_dice += dice\n",
    "        total_f1 += f1\n",
    "        num_batches += 1\n",
    "\n",
    "        valid_iterator.set_postfix(loss=loss.item(), mean_iou=iou, dice_score=dice, f1_score=f1)\n",
    "        \n",
    "\n",
    "epoch_loss = total_loss / num_batches\n",
    "epoch_iou = total_iou / num_batches\n",
    "epoch_dice = total_dice / num_batches\n",
    "epoch_f1 = total_f1 / num_batches\n",
    "\n",
    "print(f\"Validation => Mean Loss: {epoch_loss:.4f} | Mean IoU: {epoch_iou:.4f} | Mean Dice: {epoch_dice:.4f} | Mean F1 Score: {epoch_f1:.4f}\")\n"
   ]
  },
  {
   "cell_type": "code",
   "execution_count": 15,
   "id": "38fc2505",
   "metadata": {},
   "outputs": [
    {
     "data": {
      "text/plain": [
       "(0.8099385153362466, 0.8834011419184735, 0.8834011419185674)"
      ]
     },
     "execution_count": 15,
     "metadata": {},
     "output_type": "execute_result"
    }
   ],
   "source": [
    "epoch_iou, epoch_dice, epoch_f1"
   ]
  },
  {
   "cell_type": "markdown",
   "id": "7018f5e8",
   "metadata": {},
   "source": [
    "# Test"
   ]
  },
  {
   "cell_type": "code",
   "execution_count": 16,
   "id": "c2453fe9",
   "metadata": {},
   "outputs": [
    {
     "name": "stderr",
     "output_type": "stream",
     "text": [
      "Test:   0%|          | 0/340 [00:00<?, ?batch/s]"
     ]
    },
    {
     "name": "stderr",
     "output_type": "stream",
     "text": [
      "Test: 100%|██████████| 340/340 [03:58<00:00,  1.42batch/s, dice_score=0.862, f1_score=0.907, mean_iou=0.774]"
     ]
    },
    {
     "name": "stdout",
     "output_type": "stream",
     "text": [
      "Test => Mean IoU: 0.8006 | Mean Dice: 0.8764 | Mean F1 Score: 0.9070\n"
     ]
    },
    {
     "name": "stderr",
     "output_type": "stream",
     "text": [
      "\n"
     ]
    }
   ],
   "source": [
    "# Evaluation loop for each epoch\n",
    "model.eval()\n",
    "total_iou = 0\n",
    "total_dice = 0\n",
    "total_f1 = 0\n",
    "num_batches = 0\n",
    "\n",
    "test_iterator = tqdm(test_loader, desc=\"Test\", unit=\"batch\")\n",
    "for batch in test_iterator:\n",
    "    images, masks = batch\n",
    "    images = images.to(device)\n",
    "    masks = masks.to(device).long()\n",
    "\n",
    "    with torch.no_grad():\n",
    "        images, masks = batch\n",
    "        images = images.to(device)\n",
    "        masks = masks.to(device).long()\n",
    "\n",
    "        # Remove the channel dimension from the masks tensor\n",
    "        masks = masks.squeeze(1)\n",
    "\n",
    "        # Pass inputs to the model\n",
    "        outputs = model(images)\n",
    "\n",
    "        softmax = nn.functional.log_softmax(outputs, dim=1)\n",
    "\n",
    "        # Ensure the masks have the correct shape\n",
    "        masks = masks.squeeze(1)  # Squeeze extra dimensions if present\n",
    "\n",
    "        # Calculate the CrossEntropyLoss\n",
    "        loss = nn.functional.nll_loss(softmax, masks.long())\n",
    "\n",
    "        total_loss += loss.item()\n",
    "\n",
    "        # Get the logits from the model and apply argmax to get the predictions\n",
    "        # outputs = F.interpolate(outputs[\"logits\"], size=masks.shape[-2:], mode=\"bilinear\", align_corners=False)\n",
    "        preds = torch.argmax(outputs, dim=1)\n",
    "        preds = torch.unsqueeze(preds, dim=1)\n",
    "\n",
    "    preds = preds.view(-1)\n",
    "    masks = masks.view(-1)\n",
    "\n",
    "    # Compute IoU and Dice Score\n",
    "    iou = mean_iou(preds, masks, 2)\n",
    "    dice = dice_score(preds, masks, 2)\n",
    "    total_iou += iou\n",
    "    total_dice += dice\n",
    "    total_f1 += f1\n",
    "    num_batches += 1\n",
    "\n",
    "    test_iterator.set_postfix(mean_iou=iou, dice_score=dice, f1_score=f1)\n",
    "\n",
    "test_iou = total_iou / num_batches\n",
    "test_dice = total_dice / num_batches\n",
    "test_f1 = total_f1 / num_batches\n",
    "\n",
    "print(f\"Test => Mean IoU: {test_iou:.4f} | Mean Dice: {test_dice:.4f} | Mean F1 Score: {test_f1:.4f}\")"
   ]
  },
  {
   "cell_type": "code",
   "execution_count": 17,
   "id": "5ad134d5",
   "metadata": {},
   "outputs": [
    {
     "data": {
      "text/plain": [
       "(0.8005996963114539, 0.8763737209518718, 0.9070264458600786)"
      ]
     },
     "execution_count": 17,
     "metadata": {},
     "output_type": "execute_result"
    }
   ],
   "source": [
    "test_iou, test_dice, test_f1"
   ]
  },
  {
   "cell_type": "code",
   "execution_count": null,
   "id": "6e3809ba",
   "metadata": {},
   "outputs": [],
   "source": []
  }
 ],
 "metadata": {
  "kernelspec": {
   "display_name": "Python 3 (ipykernel)",
   "language": "python",
   "name": "python3"
  },
  "language_info": {
   "codemirror_mode": {
    "name": "ipython",
    "version": 3
   },
   "file_extension": ".py",
   "mimetype": "text/x-python",
   "name": "python",
   "nbconvert_exporter": "python",
   "pygments_lexer": "ipython3",
   "version": "3.10.13"
  }
 },
 "nbformat": 4,
 "nbformat_minor": 5
}
